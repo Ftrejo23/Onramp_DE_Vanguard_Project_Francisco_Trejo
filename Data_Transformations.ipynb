{
 "cells": [
  {
   "cell_type": "markdown",
   "id": "b428aaf7",
   "metadata": {},
   "source": [
    "# Data Transformation\n",
    "---"
   ]
  },
  {
   "cell_type": "code",
   "execution_count": 89,
   "id": "521f2e10",
   "metadata": {},
   "outputs": [
    {
     "name": "stdout",
     "output_type": "stream",
     "text": [
      "The following columns in artist have potential duplicates: ['genre', 'type']\n",
      "The following columns in album have potential duplicates: ['album_id', 'album_name', 'external_url', 'image_url', 'release_date', 'type', 'album_uri', 'artist_id']\n",
      "The following columns in track have potential duplicates: ['track_id', 'song_name', 'external_url', 'explicit', 'type', 'song_uri', 'album_id']\n",
      "The following columns in track_feat have potential duplicates: ['track_id', 'type', 'song_uri']\n"
     ]
    }
   ],
   "source": [
    "import pandas as pd\n",
    "import numpy as np\n",
    "\n",
    "# read in our data \n",
    "artist = pd.read_csv('./data/artist.csv')\n",
    "album = pd.read_csv('./data/album.csv')\n",
    "track = pd.read_csv('./data/track.csv')\n",
    "track_feat = pd.read_csv('./data/track_feat.csv')\n",
    "\n",
    "# create function to check if there are duplicate row values in the dfs\n",
    "def check_for_dups(df, table):\n",
    "    '''Function takes in a pandas dataframe (df) and the name if the df as a string (table)'''\n",
    "    potential_dups = []\n",
    "    # iterate through the columns in the df\n",
    "    for col in df.columns:\n",
    "        # check to see if the column values are numbers, if not continue\n",
    "        if df.dtypes[col] != np.int64 and df.dtypes[col] != np.float64:\n",
    "            # if 'count' and 'unique' are different then potential duplicate values\n",
    "            if df[col].describe()['count'] != df[col].describe()['unique']:\n",
    "                potential_dups.append(col)\n",
    "    print(f'The following columns in {table} have potential duplicates: {potential_dups}')\n",
    "\n",
    "# check all dfs for potential duplicate values\n",
    "check_for_dups(artist, 'artist')\n",
    "check_for_dups(album, 'album')\n",
    "check_for_dups(track, 'track')\n",
    "check_for_dups(track_feat, 'track_feat')"
   ]
  },
  {
   "cell_type": "code",
   "execution_count": 88,
   "id": "36b602c4",
   "metadata": {},
   "outputs": [
    {
     "name": "stdout",
     "output_type": "stream",
     "text": [
      "The following columns in artist have potential duplicates: ['genre', 'type']\n"
     ]
    }
   ],
   "source": [
    "check_for_dups(artist, 'artist')"
   ]
  },
  {
   "cell_type": "markdown",
   "id": "9dec099e",
   "metadata": {},
   "source": [
    "###"
   ]
  },
  {
   "cell_type": "code",
   "execution_count": 54,
   "id": "95c3b68b",
   "metadata": {},
   "outputs": [
    {
     "data": {
      "text/plain": [
       "count    2.000000e+01\n",
       "mean     1.642721e+07\n",
       "std      1.768950e+07\n",
       "min      9.938920e+05\n",
       "25%      2.995141e+06\n",
       "50%      1.185045e+07\n",
       "75%      2.179731e+07\n",
       "max      6.699581e+07\n",
       "Name: followers, dtype: float64"
      ]
     },
     "execution_count": 54,
     "metadata": {},
     "output_type": "execute_result"
    }
   ],
   "source": [
    "artist['followers'].describe()"
   ]
  },
  {
   "cell_type": "code",
   "execution_count": 58,
   "id": "1149c111",
   "metadata": {},
   "outputs": [
    {
     "name": "stdout",
     "output_type": "stream",
     "text": [
      "true\n"
     ]
    }
   ],
   "source": [
    "if artist.dtypes['followers'] == np.int64:\n",
    "    print('true')\n",
    "else:\n",
    "    print('false')"
   ]
  },
  {
   "cell_type": "code",
   "execution_count": 57,
   "id": "0193699c",
   "metadata": {},
   "outputs": [
    {
     "data": {
      "text/plain": [
       "dtype('int64')"
      ]
     },
     "execution_count": 57,
     "metadata": {},
     "output_type": "execute_result"
    }
   ],
   "source": [
    "artist.dtypes['followers']"
   ]
  },
  {
   "cell_type": "code",
   "execution_count": null,
   "id": "f6087acf",
   "metadata": {},
   "outputs": [],
   "source": []
  }
 ],
 "metadata": {
  "kernelspec": {
   "display_name": "Python 3 (ipykernel)",
   "language": "python",
   "name": "python3"
  },
  "language_info": {
   "codemirror_mode": {
    "name": "ipython",
    "version": 3
   },
   "file_extension": ".py",
   "mimetype": "text/x-python",
   "name": "python",
   "nbconvert_exporter": "python",
   "pygments_lexer": "ipython3",
   "version": "3.9.7"
  }
 },
 "nbformat": 4,
 "nbformat_minor": 5
}
