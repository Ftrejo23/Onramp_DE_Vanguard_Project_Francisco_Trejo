{
 "cells": [
  {
   "cell_type": "markdown",
   "id": "389f0108",
   "metadata": {},
   "source": [
    "# Data Storage\n",
    "---"
   ]
  },
  {
   "cell_type": "code",
   "execution_count": 7,
   "id": "eb00436e",
   "metadata": {},
   "outputs": [],
   "source": [
    "import pandas as pd\n",
    "import sqlite3\n",
    "\n",
    "# read in transformed data\n",
    "artist_df = pd.read_csv('../../data/final_artist.csv')\n",
    "# need to make sure release_dates gets read in as a datetime\n",
    "album_df = pd.read_csv('../../data/final_album.csv', parse_dates=['release_date'])\n",
    "track_df = pd.read_csv('../../data/final_track.csv')\n",
    "track_feat_df = pd.read_csv('../../data/final_track_feat.csv')"
   ]
  },
  {
   "cell_type": "markdown",
   "id": "f3222845",
   "metadata": {},
   "source": [
    "## Connect to database"
   ]
  },
  {
   "cell_type": "code",
   "execution_count": 9,
   "id": "61b75278",
   "metadata": {},
   "outputs": [],
   "source": [
    "db_conn = sqlite3.connect('../../data/sql_db/spotify_data.db')"
   ]
  },
  {
   "cell_type": "code",
   "execution_count": null,
   "id": "d85ae04b",
   "metadata": {},
   "outputs": [],
   "source": []
  }
 ],
 "metadata": {
  "kernelspec": {
   "display_name": "Python 3 (ipykernel)",
   "language": "python",
   "name": "python3"
  },
  "language_info": {
   "codemirror_mode": {
    "name": "ipython",
    "version": 3
   },
   "file_extension": ".py",
   "mimetype": "text/x-python",
   "name": "python",
   "nbconvert_exporter": "python",
   "pygments_lexer": "ipython3",
   "version": "3.9.7"
  }
 },
 "nbformat": 4,
 "nbformat_minor": 5
}
