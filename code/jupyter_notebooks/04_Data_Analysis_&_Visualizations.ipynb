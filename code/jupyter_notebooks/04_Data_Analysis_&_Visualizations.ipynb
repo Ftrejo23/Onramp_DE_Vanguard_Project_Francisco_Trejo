{
 "cells": [
  {
   "cell_type": "markdown",
   "id": "d022158b",
   "metadata": {},
   "source": [
    "# Data Analysis and Visualizations\n",
    "---"
   ]
  },
  {
   "cell_type": "code",
   "execution_count": 1,
   "id": "72c4ed88",
   "metadata": {},
   "outputs": [],
   "source": [
    "import pandas as pd\n",
    "import sqlite3\n",
    "import seaborn as sns\n",
    "import matplotlib.pyplot as plt \n",
    "plt.style.use('fivethirtyeight')\n",
    "\n",
    "# connect to database \n",
    "db_conn = sqlite3.connect('../../data/sql_db/spotify_data.db')\n",
    "\n",
    "# create a function to run queries and output pandas dataframe\n",
    "def Q(query, db=db_conn):\n",
    "    return pd.read_sql(query, db)"
   ]
  },
  {
   "cell_type": "markdown",
   "id": "3ca3d66f",
   "metadata": {},
   "source": [
    "## Check to see if all of our tables loaded."
   ]
  },
  {
   "cell_type": "code",
   "execution_count": 12,
   "id": "ced7f759",
   "metadata": {},
   "outputs": [
    {
     "data": {
      "text/html": [
       "<div>\n",
       "<style scoped>\n",
       "    .dataframe tbody tr th:only-of-type {\n",
       "        vertical-align: middle;\n",
       "    }\n",
       "\n",
       "    .dataframe tbody tr th {\n",
       "        vertical-align: top;\n",
       "    }\n",
       "\n",
       "    .dataframe thead th {\n",
       "        text-align: right;\n",
       "    }\n",
       "</style>\n",
       "<table border=\"1\" class=\"dataframe\">\n",
       "  <thead>\n",
       "    <tr style=\"text-align: right;\">\n",
       "      <th></th>\n",
       "      <th>name</th>\n",
       "    </tr>\n",
       "  </thead>\n",
       "  <tbody>\n",
       "    <tr>\n",
       "      <th>0</th>\n",
       "      <td>Artist</td>\n",
       "    </tr>\n",
       "    <tr>\n",
       "      <th>1</th>\n",
       "      <td>Album</td>\n",
       "    </tr>\n",
       "    <tr>\n",
       "      <th>2</th>\n",
       "      <td>Track</td>\n",
       "    </tr>\n",
       "    <tr>\n",
       "      <th>3</th>\n",
       "      <td>Track_Feature</td>\n",
       "    </tr>\n",
       "  </tbody>\n",
       "</table>\n",
       "</div>"
      ],
      "text/plain": [
       "            name\n",
       "0         Artist\n",
       "1          Album\n",
       "2          Track\n",
       "3  Track_Feature"
      ]
     },
     "execution_count": 12,
     "metadata": {},
     "output_type": "execute_result"
    }
   ],
   "source": [
    "Q('''\n",
    "SELECT name\n",
    "FROM sqlite_master\n",
    "WHERE type = 'table';\n",
    "  ''')"
   ]
  },
  {
   "cell_type": "markdown",
   "id": "7596c8aa",
   "metadata": {},
   "source": [
    "### As we can see from the output above all 4 tables loaded correctly."
   ]
  },
  {
   "cell_type": "markdown",
   "id": "ae6dfeec",
   "metadata": {},
   "source": [
    "## Create views\n",
    "---"
   ]
  },
  {
   "attachments": {},
   "cell_type": "markdown",
   "id": "7d6399ae",
   "metadata": {},
   "source": [
    "## Top songs by artist in terms of duration_ms:"
   ]
  },
  {
   "cell_type": "code",
   "execution_count": 36,
   "id": "cf72bb73",
   "metadata": {},
   "outputs": [
    {
     "data": {
      "text/plain": [
       "<sqlite3.Cursor at 0x1cf29917e30>"
      ]
     },
     "execution_count": 36,
     "metadata": {},
     "output_type": "execute_result"
    }
   ],
   "source": [
    "# This will drop the view if it exists. Need this in order to rerun code.\n",
    "db_conn.execute('''DROP VIEW IF EXISTS top_5_songs_ms_view;''')"
   ]
  },
  {
   "cell_type": "code",
   "execution_count": 38,
   "id": "cdfc2750",
   "metadata": {},
   "outputs": [
    {
     "data": {
      "text/plain": [
       "<sqlite3.Cursor at 0x1cf2a6d3960>"
      ]
     },
     "execution_count": 38,
     "metadata": {},
     "output_type": "execute_result"
    }
   ],
   "source": [
    "db_conn.execute('''\n",
    "CREATE VIEW top_5_songs_ms_view AS\n",
    "WITH top_songs_by_artist_cte AS \n",
    "-- subquery for cte, want necessary columns and additional column that ranks songs by duration grouped by artist\n",
    "(SELECT ar.artist_name, t.song_name, a.album_name, t.duration_ms,\n",
    "    DENSE_RANK() OVER (PARTITION BY ar.artist_name ORDER BY t.duration_ms DESC) as song_duration_rank_by_artist\n",
    "FROM Artist ar\n",
    "-- join necessary tables together\n",
    "LEFT JOIN Album a \n",
    "    ON a.artist_id = ar.artist_id\n",
    "LEFT JOIN Track t \n",
    "    ON a.album_id = t.album_id\n",
    "ORDER BY t.duration_ms DESC)\n",
    "-- query the cte for top 5 longest songs by artist\n",
    "SELECT *\n",
    "FROM top_songs_by_artist_cte\n",
    "-- only want songs ranked in the top 5\n",
    "WHERE song_duration_rank_by_artist BETWEEN 1 AND 5\n",
    "ORDER BY artist_name ASC, song_duration_rank_by_artist ASC;\n",
    "''')"
   ]
  },
  {
   "cell_type": "code",
   "execution_count": 32,
   "id": "09adf38c",
   "metadata": {},
   "outputs": [
    {
     "data": {
      "text/html": [
       "<div>\n",
       "<style scoped>\n",
       "    .dataframe tbody tr th:only-of-type {\n",
       "        vertical-align: middle;\n",
       "    }\n",
       "\n",
       "    .dataframe tbody tr th {\n",
       "        vertical-align: top;\n",
       "    }\n",
       "\n",
       "    .dataframe thead th {\n",
       "        text-align: right;\n",
       "    }\n",
       "</style>\n",
       "<table border=\"1\" class=\"dataframe\">\n",
       "  <thead>\n",
       "    <tr style=\"text-align: right;\">\n",
       "      <th></th>\n",
       "      <th>artist_name</th>\n",
       "      <th>song_name</th>\n",
       "      <th>album_name</th>\n",
       "      <th>duration_ms</th>\n",
       "      <th>song_duration_rank_by_artist</th>\n",
       "    </tr>\n",
       "  </thead>\n",
       "  <tbody>\n",
       "    <tr>\n",
       "      <th>0</th>\n",
       "      <td>Baby Keem</td>\n",
       "      <td>range brothers (with Kendrick Lamar)</td>\n",
       "      <td>The Melodic Blue</td>\n",
       "      <td>316733</td>\n",
       "      <td>1</td>\n",
       "    </tr>\n",
       "    <tr>\n",
       "      <th>1</th>\n",
       "      <td>Baby Keem</td>\n",
       "      <td>trademark usa</td>\n",
       "      <td>The Melodic Blue</td>\n",
       "      <td>270670</td>\n",
       "      <td>2</td>\n",
       "    </tr>\n",
       "    <tr>\n",
       "      <th>2</th>\n",
       "      <td>Baby Keem</td>\n",
       "      <td>lost souls</td>\n",
       "      <td>The Melodic Blue</td>\n",
       "      <td>269727</td>\n",
       "      <td>3</td>\n",
       "    </tr>\n",
       "    <tr>\n",
       "      <th>3</th>\n",
       "      <td>Baby Keem</td>\n",
       "      <td>lost souls (with Brent Faiyaz)</td>\n",
       "      <td>The Melodic Blue</td>\n",
       "      <td>269727</td>\n",
       "      <td>3</td>\n",
       "    </tr>\n",
       "    <tr>\n",
       "      <th>4</th>\n",
       "      <td>Baby Keem</td>\n",
       "      <td>scars</td>\n",
       "      <td>The Melodic Blue</td>\n",
       "      <td>266010</td>\n",
       "      <td>4</td>\n",
       "    </tr>\n",
       "    <tr>\n",
       "      <th>...</th>\n",
       "      <td>...</td>\n",
       "      <td>...</td>\n",
       "      <td>...</td>\n",
       "      <td>...</td>\n",
       "      <td>...</td>\n",
       "    </tr>\n",
       "    <tr>\n",
       "      <th>111</th>\n",
       "      <td>Travis Scott</td>\n",
       "      <td>3500 (feat. Future &amp; 2 Chainz)</td>\n",
       "      <td>Rodeo (Expanded Edition)</td>\n",
       "      <td>461840</td>\n",
       "      <td>1</td>\n",
       "    </tr>\n",
       "    <tr>\n",
       "      <th>112</th>\n",
       "      <td>Travis Scott</td>\n",
       "      <td>Ok Alright (feat. ScHoolboy Q)</td>\n",
       "      <td>Rodeo (Expanded Edition)</td>\n",
       "      <td>417693</td>\n",
       "      <td>2</td>\n",
       "    </tr>\n",
       "    <tr>\n",
       "      <th>113</th>\n",
       "      <td>Travis Scott</td>\n",
       "      <td>Oh My Dis Side (feat. Quavo)</td>\n",
       "      <td>Rodeo (Expanded Edition)</td>\n",
       "      <td>351253</td>\n",
       "      <td>3</td>\n",
       "    </tr>\n",
       "    <tr>\n",
       "      <th>114</th>\n",
       "      <td>Travis Scott</td>\n",
       "      <td>Maria I'm Drunk (feat. Justin Bieber &amp; Young T...</td>\n",
       "      <td>Rodeo (Expanded Edition)</td>\n",
       "      <td>349933</td>\n",
       "      <td>4</td>\n",
       "    </tr>\n",
       "    <tr>\n",
       "      <th>115</th>\n",
       "      <td>Travis Scott</td>\n",
       "      <td>90210 (feat. Kacy Hill)</td>\n",
       "      <td>Rodeo (Expanded Edition)</td>\n",
       "      <td>339066</td>\n",
       "      <td>5</td>\n",
       "    </tr>\n",
       "  </tbody>\n",
       "</table>\n",
       "<p>116 rows × 5 columns</p>\n",
       "</div>"
      ],
      "text/plain": [
       "      artist_name                                          song_name  \\\n",
       "0       Baby Keem               range brothers (with Kendrick Lamar)   \n",
       "1       Baby Keem                                      trademark usa   \n",
       "2       Baby Keem                                         lost souls   \n",
       "3       Baby Keem                     lost souls (with Brent Faiyaz)   \n",
       "4       Baby Keem                                              scars   \n",
       "..            ...                                                ...   \n",
       "111  Travis Scott                     3500 (feat. Future & 2 Chainz)   \n",
       "112  Travis Scott                     Ok Alright (feat. ScHoolboy Q)   \n",
       "113  Travis Scott                       Oh My Dis Side (feat. Quavo)   \n",
       "114  Travis Scott  Maria I'm Drunk (feat. Justin Bieber & Young T...   \n",
       "115  Travis Scott                            90210 (feat. Kacy Hill)   \n",
       "\n",
       "                   album_name  duration_ms  song_duration_rank_by_artist  \n",
       "0            The Melodic Blue       316733                             1  \n",
       "1            The Melodic Blue       270670                             2  \n",
       "2            The Melodic Blue       269727                             3  \n",
       "3            The Melodic Blue       269727                             3  \n",
       "4            The Melodic Blue       266010                             4  \n",
       "..                        ...          ...                           ...  \n",
       "111  Rodeo (Expanded Edition)       461840                             1  \n",
       "112  Rodeo (Expanded Edition)       417693                             2  \n",
       "113  Rodeo (Expanded Edition)       351253                             3  \n",
       "114  Rodeo (Expanded Edition)       349933                             4  \n",
       "115  Rodeo (Expanded Edition)       339066                             5  \n",
       "\n",
       "[116 rows x 5 columns]"
      ]
     },
     "execution_count": 32,
     "metadata": {},
     "output_type": "execute_result"
    }
   ],
   "source": [
    "Q('''\n",
    "SELECT *\n",
    "FROM top_5_songs_ms_view;\n",
    "''')"
   ]
  },
  {
   "cell_type": "markdown",
   "id": "a87cd1c4",
   "metadata": {},
   "source": [
    "### As we can see from the output above our view creation was a success. Now to create the 2nd view."
   ]
  },
  {
   "attachments": {},
   "cell_type": "markdown",
   "id": "9dad10db",
   "metadata": {},
   "source": [
    "## Top artists in the database by # of followers:"
   ]
  },
  {
   "cell_type": "code",
   "execution_count": 41,
   "id": "ec439e76",
   "metadata": {},
   "outputs": [
    {
     "data": {
      "text/plain": [
       "<sqlite3.Cursor at 0x1cf2a74d0a0>"
      ]
     },
     "execution_count": 41,
     "metadata": {},
     "output_type": "execute_result"
    }
   ],
   "source": [
    "db_conn.execute('''DROP VIEW IF EXISTS top_10_artist_num_followers_view;''')"
   ]
  },
  {
   "cell_type": "code",
   "execution_count": 42,
   "id": "ffd5d41f",
   "metadata": {},
   "outputs": [
    {
     "data": {
      "text/plain": [
       "<sqlite3.Cursor at 0x1cf2a74d420>"
      ]
     },
     "execution_count": 42,
     "metadata": {},
     "output_type": "execute_result"
    }
   ],
   "source": [
    "db_conn.execute('''\n",
    "CREATE VIEW top_10_artist_num_followers_view AS\n",
    "SELECT *\n",
    "FROM Artist\n",
    "ORDER BY followers DESC\n",
    "LIMIT 10;\n",
    "''')"
   ]
  },
  {
   "cell_type": "code",
   "execution_count": 43,
   "id": "850cdaf3",
   "metadata": {},
   "outputs": [
    {
     "data": {
      "text/html": [
       "<div>\n",
       "<style scoped>\n",
       "    .dataframe tbody tr th:only-of-type {\n",
       "        vertical-align: middle;\n",
       "    }\n",
       "\n",
       "    .dataframe tbody tr th {\n",
       "        vertical-align: top;\n",
       "    }\n",
       "\n",
       "    .dataframe thead th {\n",
       "        text-align: right;\n",
       "    }\n",
       "</style>\n",
       "<table border=\"1\" class=\"dataframe\">\n",
       "  <thead>\n",
       "    <tr style=\"text-align: right;\">\n",
       "      <th></th>\n",
       "      <th>artist_id</th>\n",
       "      <th>artist_name</th>\n",
       "      <th>external_url</th>\n",
       "      <th>genre</th>\n",
       "      <th>image_url</th>\n",
       "      <th>followers</th>\n",
       "      <th>popularity</th>\n",
       "      <th>type</th>\n",
       "      <th>artist_uri</th>\n",
       "    </tr>\n",
       "  </thead>\n",
       "  <tbody>\n",
       "    <tr>\n",
       "      <th>0</th>\n",
       "      <td>3TVXtAsR1Inumwj472S9r4</td>\n",
       "      <td>Drake</td>\n",
       "      <td>https://open.spotify.com/artist/3TVXtAsR1Inumw...</td>\n",
       "      <td>canadian hip hop</td>\n",
       "      <td>https://i.scdn.co/image/ab6761610000e5eb429338...</td>\n",
       "      <td>66995809</td>\n",
       "      <td>95</td>\n",
       "      <td>artist</td>\n",
       "      <td>spotify:artist:3TVXtAsR1Inumwj472S9r4</td>\n",
       "    </tr>\n",
       "    <tr>\n",
       "      <th>1</th>\n",
       "      <td>1Xyo4u8uXC1ZmMpatF05PJ</td>\n",
       "      <td>The Weeknd</td>\n",
       "      <td>https://open.spotify.com/artist/1Xyo4u8uXC1ZmM...</td>\n",
       "      <td>canadian contemporary r&amp;b</td>\n",
       "      <td>https://i.scdn.co/image/ab6761610000e5ebb5f9e2...</td>\n",
       "      <td>49629059</td>\n",
       "      <td>94</td>\n",
       "      <td>artist</td>\n",
       "      <td>spotify:artist:1Xyo4u8uXC1ZmMpatF05PJ</td>\n",
       "    </tr>\n",
       "    <tr>\n",
       "      <th>2</th>\n",
       "      <td>246dkjvS1zLTtiykXe5h60</td>\n",
       "      <td>Post Malone</td>\n",
       "      <td>https://open.spotify.com/artist/246dkjvS1zLTti...</td>\n",
       "      <td>dfw rap</td>\n",
       "      <td>https://i.scdn.co/image/ab6761610000e5ebb894ef...</td>\n",
       "      <td>38142353</td>\n",
       "      <td>89</td>\n",
       "      <td>artist</td>\n",
       "      <td>spotify:artist:246dkjvS1zLTtiykXe5h60</td>\n",
       "    </tr>\n",
       "    <tr>\n",
       "      <th>3</th>\n",
       "      <td>4MCBfE4596Uoi2O4DtmEMz</td>\n",
       "      <td>Juice WRLD</td>\n",
       "      <td>https://open.spotify.com/artist/4MCBfE4596Uoi2...</td>\n",
       "      <td>chicago rap</td>\n",
       "      <td>https://i.scdn.co/image/ab6761610000e5eb1908e1...</td>\n",
       "      <td>25652049</td>\n",
       "      <td>89</td>\n",
       "      <td>artist</td>\n",
       "      <td>spotify:artist:4MCBfE4596Uoi2O4DtmEMz</td>\n",
       "    </tr>\n",
       "    <tr>\n",
       "      <th>4</th>\n",
       "      <td>3fMbdgg4jU18AjLCKBhRSm</td>\n",
       "      <td>Michael Jackson</td>\n",
       "      <td>https://open.spotify.com/artist/3fMbdgg4jU18Aj...</td>\n",
       "      <td>pop</td>\n",
       "      <td>https://i.scdn.co/image/ab6761610000e5eba2a0b9...</td>\n",
       "      <td>24129716</td>\n",
       "      <td>82</td>\n",
       "      <td>artist</td>\n",
       "      <td>spotify:artist:3fMbdgg4jU18AjLCKBhRSm</td>\n",
       "    </tr>\n",
       "    <tr>\n",
       "      <th>5</th>\n",
       "      <td>0Y5tJX1MQlPlqiwlOH1tJY</td>\n",
       "      <td>Travis Scott</td>\n",
       "      <td>https://open.spotify.com/artist/0Y5tJX1MQlPlqi...</td>\n",
       "      <td>hip hop</td>\n",
       "      <td>https://i.scdn.co/image/ab6761610000e5ebe707b8...</td>\n",
       "      <td>21019843</td>\n",
       "      <td>87</td>\n",
       "      <td>artist</td>\n",
       "      <td>spotify:artist:0Y5tJX1MQlPlqiwlOH1tJY</td>\n",
       "    </tr>\n",
       "    <tr>\n",
       "      <th>6</th>\n",
       "      <td>5K4W6rqBFWDnAN6FQUkS6x</td>\n",
       "      <td>Kanye West</td>\n",
       "      <td>https://open.spotify.com/artist/5K4W6rqBFWDnAN...</td>\n",
       "      <td>chicago rap</td>\n",
       "      <td>https://i.scdn.co/image/ab6761610000e5eb867008...</td>\n",
       "      <td>18214609</td>\n",
       "      <td>91</td>\n",
       "      <td>artist</td>\n",
       "      <td>spotify:artist:5K4W6rqBFWDnAN6FQUkS6x</td>\n",
       "    </tr>\n",
       "    <tr>\n",
       "      <th>7</th>\n",
       "      <td>6l3HvQ5sa6mXTsMTB19rO5</td>\n",
       "      <td>J. Cole</td>\n",
       "      <td>https://open.spotify.com/artist/6l3HvQ5sa6mXTs...</td>\n",
       "      <td>conscious hip hop</td>\n",
       "      <td>https://i.scdn.co/image/ab6761610000e5ebadd503...</td>\n",
       "      <td>17879851</td>\n",
       "      <td>85</td>\n",
       "      <td>artist</td>\n",
       "      <td>spotify:artist:6l3HvQ5sa6mXTsMTB19rO5</td>\n",
       "    </tr>\n",
       "    <tr>\n",
       "      <th>8</th>\n",
       "      <td>4O15NlyKLIASxsJ0PrXPfz</td>\n",
       "      <td>Lil Uzi Vert</td>\n",
       "      <td>https://open.spotify.com/artist/4O15NlyKLIASxs...</td>\n",
       "      <td>melodic rap</td>\n",
       "      <td>https://i.scdn.co/image/ab6761610000e5eb30122c...</td>\n",
       "      <td>13770423</td>\n",
       "      <td>85</td>\n",
       "      <td>artist</td>\n",
       "      <td>spotify:artist:4O15NlyKLIASxsJ0PrXPfz</td>\n",
       "    </tr>\n",
       "    <tr>\n",
       "      <th>9</th>\n",
       "      <td>1RyvyyTE3xzB2ZywiAwp0i</td>\n",
       "      <td>Future</td>\n",
       "      <td>https://open.spotify.com/artist/1RyvyyTE3xzB2Z...</td>\n",
       "      <td>atl hip hop</td>\n",
       "      <td>https://i.scdn.co/image/ab6761610000e5eb24e41f...</td>\n",
       "      <td>12133503</td>\n",
       "      <td>88</td>\n",
       "      <td>artist</td>\n",
       "      <td>spotify:artist:1RyvyyTE3xzB2ZywiAwp0i</td>\n",
       "    </tr>\n",
       "  </tbody>\n",
       "</table>\n",
       "</div>"
      ],
      "text/plain": [
       "                artist_id      artist_name  \\\n",
       "0  3TVXtAsR1Inumwj472S9r4            Drake   \n",
       "1  1Xyo4u8uXC1ZmMpatF05PJ       The Weeknd   \n",
       "2  246dkjvS1zLTtiykXe5h60      Post Malone   \n",
       "3  4MCBfE4596Uoi2O4DtmEMz       Juice WRLD   \n",
       "4  3fMbdgg4jU18AjLCKBhRSm  Michael Jackson   \n",
       "5  0Y5tJX1MQlPlqiwlOH1tJY     Travis Scott   \n",
       "6  5K4W6rqBFWDnAN6FQUkS6x       Kanye West   \n",
       "7  6l3HvQ5sa6mXTsMTB19rO5          J. Cole   \n",
       "8  4O15NlyKLIASxsJ0PrXPfz     Lil Uzi Vert   \n",
       "9  1RyvyyTE3xzB2ZywiAwp0i           Future   \n",
       "\n",
       "                                        external_url  \\\n",
       "0  https://open.spotify.com/artist/3TVXtAsR1Inumw...   \n",
       "1  https://open.spotify.com/artist/1Xyo4u8uXC1ZmM...   \n",
       "2  https://open.spotify.com/artist/246dkjvS1zLTti...   \n",
       "3  https://open.spotify.com/artist/4MCBfE4596Uoi2...   \n",
       "4  https://open.spotify.com/artist/3fMbdgg4jU18Aj...   \n",
       "5  https://open.spotify.com/artist/0Y5tJX1MQlPlqi...   \n",
       "6  https://open.spotify.com/artist/5K4W6rqBFWDnAN...   \n",
       "7  https://open.spotify.com/artist/6l3HvQ5sa6mXTs...   \n",
       "8  https://open.spotify.com/artist/4O15NlyKLIASxs...   \n",
       "9  https://open.spotify.com/artist/1RyvyyTE3xzB2Z...   \n",
       "\n",
       "                       genre  \\\n",
       "0           canadian hip hop   \n",
       "1  canadian contemporary r&b   \n",
       "2                    dfw rap   \n",
       "3                chicago rap   \n",
       "4                        pop   \n",
       "5                    hip hop   \n",
       "6                chicago rap   \n",
       "7          conscious hip hop   \n",
       "8                melodic rap   \n",
       "9                atl hip hop   \n",
       "\n",
       "                                           image_url  followers  popularity  \\\n",
       "0  https://i.scdn.co/image/ab6761610000e5eb429338...   66995809          95   \n",
       "1  https://i.scdn.co/image/ab6761610000e5ebb5f9e2...   49629059          94   \n",
       "2  https://i.scdn.co/image/ab6761610000e5ebb894ef...   38142353          89   \n",
       "3  https://i.scdn.co/image/ab6761610000e5eb1908e1...   25652049          89   \n",
       "4  https://i.scdn.co/image/ab6761610000e5eba2a0b9...   24129716          82   \n",
       "5  https://i.scdn.co/image/ab6761610000e5ebe707b8...   21019843          87   \n",
       "6  https://i.scdn.co/image/ab6761610000e5eb867008...   18214609          91   \n",
       "7  https://i.scdn.co/image/ab6761610000e5ebadd503...   17879851          85   \n",
       "8  https://i.scdn.co/image/ab6761610000e5eb30122c...   13770423          85   \n",
       "9  https://i.scdn.co/image/ab6761610000e5eb24e41f...   12133503          88   \n",
       "\n",
       "     type                             artist_uri  \n",
       "0  artist  spotify:artist:3TVXtAsR1Inumwj472S9r4  \n",
       "1  artist  spotify:artist:1Xyo4u8uXC1ZmMpatF05PJ  \n",
       "2  artist  spotify:artist:246dkjvS1zLTtiykXe5h60  \n",
       "3  artist  spotify:artist:4MCBfE4596Uoi2O4DtmEMz  \n",
       "4  artist  spotify:artist:3fMbdgg4jU18AjLCKBhRSm  \n",
       "5  artist  spotify:artist:0Y5tJX1MQlPlqiwlOH1tJY  \n",
       "6  artist  spotify:artist:5K4W6rqBFWDnAN6FQUkS6x  \n",
       "7  artist  spotify:artist:6l3HvQ5sa6mXTsMTB19rO5  \n",
       "8  artist  spotify:artist:4O15NlyKLIASxsJ0PrXPfz  \n",
       "9  artist  spotify:artist:1RyvyyTE3xzB2ZywiAwp0i  "
      ]
     },
     "execution_count": 43,
     "metadata": {},
     "output_type": "execute_result"
    }
   ],
   "source": [
    "Q('''\n",
    "SELECT *\n",
    "FROM top_10_artist_num_followers_view;\n",
    "''')"
   ]
  },
  {
   "cell_type": "markdown",
   "id": "067eda96",
   "metadata": {},
   "source": [
    "### As we can see from the output above we successfully created a view with the top 10 artist by number of followers. Now to create the 3rd view."
   ]
  },
  {
   "cell_type": "markdown",
   "id": "4cc9da33",
   "metadata": {},
   "source": [
    "## Top songs by artist in terms of tempo:"
   ]
  },
  {
   "cell_type": "code",
   "execution_count": 55,
   "id": "b6b225d2",
   "metadata": {},
   "outputs": [
    {
     "data": {
      "text/plain": [
       "<sqlite3.Cursor at 0x1cf2a77a030>"
      ]
     },
     "execution_count": 55,
     "metadata": {},
     "output_type": "execute_result"
    }
   ],
   "source": [
    "db_conn.execute('''DROP VIEW IF EXISTS top_5_songs_tempo_view;''')"
   ]
  },
  {
   "cell_type": "code",
   "execution_count": 56,
   "id": "6d7b1dca",
   "metadata": {},
   "outputs": [
    {
     "data": {
      "text/plain": [
       "<sqlite3.Cursor at 0x1cf2a77ace0>"
      ]
     },
     "execution_count": 56,
     "metadata": {},
     "output_type": "execute_result"
    }
   ],
   "source": [
    "db_conn.execute('''\n",
    "CREATE VIEW top_5_songs_tempo_view AS\n",
    "WITH top_tempo_cte AS\n",
    "-- subquery for cte, need to rank songs by tempo\n",
    "(SELECT ar.artist_name, t.song_name, tf.tempo,\n",
    "    DENSE_RANK() OVER (PARTITION BY ar.artist_name ORDER BY tf.tempo DESC) as tempo_rank_by_artist\n",
    "FROM Artist ar\n",
    "-- join necessary tables together\n",
    "LEFT JOIN Album a \n",
    "    ON a.artist_id = ar.artist_id\n",
    "LEFT JOIN Track t \n",
    "    ON a.album_id = t.album_id\n",
    "LEFT JOIN Track_Feature tf\n",
    "    ON t.track_id = tf.track_id)\n",
    "-- query the cte for top 5 tracks with highest tempo\n",
    "SELECT *\n",
    "FROM top_tempo_cte\n",
    "WHERE tempo_rank_by_artist BETWEEN 1 AND 5\n",
    "ORDER BY artist_name ASC, tempo_rank_by_artist ASC;\n",
    "''')"
   ]
  },
  {
   "cell_type": "code",
   "execution_count": 61,
   "id": "17f0b227",
   "metadata": {},
   "outputs": [
    {
     "data": {
      "text/html": [
       "<div>\n",
       "<style scoped>\n",
       "    .dataframe tbody tr th:only-of-type {\n",
       "        vertical-align: middle;\n",
       "    }\n",
       "\n",
       "    .dataframe tbody tr th {\n",
       "        vertical-align: top;\n",
       "    }\n",
       "\n",
       "    .dataframe thead th {\n",
       "        text-align: right;\n",
       "    }\n",
       "</style>\n",
       "<table border=\"1\" class=\"dataframe\">\n",
       "  <thead>\n",
       "    <tr style=\"text-align: right;\">\n",
       "      <th></th>\n",
       "      <th>artist_name</th>\n",
       "      <th>song_name</th>\n",
       "      <th>tempo</th>\n",
       "      <th>tempo_rank_by_artist</th>\n",
       "    </tr>\n",
       "  </thead>\n",
       "  <tbody>\n",
       "    <tr>\n",
       "      <th>0</th>\n",
       "      <td>Baby Keem</td>\n",
       "      <td>no sense</td>\n",
       "      <td>180.013</td>\n",
       "      <td>1</td>\n",
       "    </tr>\n",
       "    <tr>\n",
       "      <th>1</th>\n",
       "      <td>Baby Keem</td>\n",
       "      <td>Xmen</td>\n",
       "      <td>170.030</td>\n",
       "      <td>2</td>\n",
       "    </tr>\n",
       "    <tr>\n",
       "      <th>2</th>\n",
       "      <td>Baby Keem</td>\n",
       "      <td>lost souls</td>\n",
       "      <td>170.022</td>\n",
       "      <td>3</td>\n",
       "    </tr>\n",
       "    <tr>\n",
       "      <th>3</th>\n",
       "      <td>Baby Keem</td>\n",
       "      <td>lost souls (with Brent Faiyaz)</td>\n",
       "      <td>169.994</td>\n",
       "      <td>4</td>\n",
       "    </tr>\n",
       "    <tr>\n",
       "      <th>4</th>\n",
       "      <td>Baby Keem</td>\n",
       "      <td>Miss Charlotte</td>\n",
       "      <td>161.989</td>\n",
       "      <td>5</td>\n",
       "    </tr>\n",
       "    <tr>\n",
       "      <th>...</th>\n",
       "      <td>...</td>\n",
       "      <td>...</td>\n",
       "      <td>...</td>\n",
       "      <td>...</td>\n",
       "    </tr>\n",
       "    <tr>\n",
       "      <th>102</th>\n",
       "      <td>Travis Scott</td>\n",
       "      <td>the ends</td>\n",
       "      <td>171.853</td>\n",
       "      <td>1</td>\n",
       "    </tr>\n",
       "    <tr>\n",
       "      <th>103</th>\n",
       "      <td>Travis Scott</td>\n",
       "      <td>outside</td>\n",
       "      <td>165.906</td>\n",
       "      <td>2</td>\n",
       "    </tr>\n",
       "    <tr>\n",
       "      <th>104</th>\n",
       "      <td>Travis Scott</td>\n",
       "      <td>Motorcycle Patches</td>\n",
       "      <td>162.867</td>\n",
       "      <td>3</td>\n",
       "    </tr>\n",
       "    <tr>\n",
       "      <th>105</th>\n",
       "      <td>Travis Scott</td>\n",
       "      <td>HOUSTONFORNICATION</td>\n",
       "      <td>160.042</td>\n",
       "      <td>4</td>\n",
       "    </tr>\n",
       "    <tr>\n",
       "      <th>106</th>\n",
       "      <td>Travis Scott</td>\n",
       "      <td>Black &amp; Chinese</td>\n",
       "      <td>159.108</td>\n",
       "      <td>5</td>\n",
       "    </tr>\n",
       "  </tbody>\n",
       "</table>\n",
       "<p>107 rows × 4 columns</p>\n",
       "</div>"
      ],
      "text/plain": [
       "      artist_name                       song_name    tempo  \\\n",
       "0       Baby Keem                        no sense  180.013   \n",
       "1       Baby Keem                            Xmen  170.030   \n",
       "2       Baby Keem                      lost souls  170.022   \n",
       "3       Baby Keem  lost souls (with Brent Faiyaz)  169.994   \n",
       "4       Baby Keem                  Miss Charlotte  161.989   \n",
       "..            ...                             ...      ...   \n",
       "102  Travis Scott                        the ends  171.853   \n",
       "103  Travis Scott                         outside  165.906   \n",
       "104  Travis Scott              Motorcycle Patches  162.867   \n",
       "105  Travis Scott              HOUSTONFORNICATION  160.042   \n",
       "106  Travis Scott                 Black & Chinese  159.108   \n",
       "\n",
       "     tempo_rank_by_artist  \n",
       "0                       1  \n",
       "1                       2  \n",
       "2                       3  \n",
       "3                       4  \n",
       "4                       5  \n",
       "..                    ...  \n",
       "102                     1  \n",
       "103                     2  \n",
       "104                     3  \n",
       "105                     4  \n",
       "106                     5  \n",
       "\n",
       "[107 rows x 4 columns]"
      ]
     },
     "execution_count": 61,
     "metadata": {},
     "output_type": "execute_result"
    }
   ],
   "source": [
    "Q('''\n",
    "SELECT *\n",
    "FROM top_5_songs_tempo_view;\n",
    "''')"
   ]
  },
  {
   "cell_type": "markdown",
   "id": "e471f861",
   "metadata": {},
   "source": [
    "### The view creation was a success, now let's work on our 4th view."
   ]
  },
  {
   "cell_type": "markdown",
   "id": "80bca2b6",
   "metadata": {},
   "source": [
    "## Top 10 Artists with most explicit tracks:"
   ]
  },
  {
   "cell_type": "code",
   "execution_count": 63,
   "id": "e05f8b30",
   "metadata": {},
   "outputs": [
    {
     "data": {
      "text/plain": [
       "<sqlite3.Cursor at 0x1cf2aad98f0>"
      ]
     },
     "execution_count": 63,
     "metadata": {},
     "output_type": "execute_result"
    }
   ],
   "source": [
    "db_conn.execute('''DROP VIEW IF EXISTS top_10_explicit_artist_view;''')"
   ]
  },
  {
   "cell_type": "code",
   "execution_count": 71,
   "id": "1f70aee9",
   "metadata": {},
   "outputs": [
    {
     "data": {
      "text/plain": [
       "<sqlite3.Cursor at 0x1cf2b917340>"
      ]
     },
     "execution_count": 71,
     "metadata": {},
     "output_type": "execute_result"
    }
   ],
   "source": [
    "db_conn.execute('''\n",
    "CREATE VIEW top_10_explicit_artist_view AS\n",
    "SELECT ar.artist_name, SUM(t.explicit) as num_explicit_tracks\n",
    "FROM Artist ar\n",
    "-- join necessary tables together\n",
    "LEFT JOIN Album a \n",
    "    ON a.artist_id = ar.artist_id\n",
    "LEFT JOIN Track t \n",
    "    ON a.album_id = t.album_id\n",
    "GROUP BY ar.artist_name\n",
    "ORDER BY num_explicit_tracks DESC\n",
    "LIMIT 10;\n",
    "''')"
   ]
  },
  {
   "cell_type": "code",
   "execution_count": 72,
   "id": "9f81a21c",
   "metadata": {},
   "outputs": [
    {
     "data": {
      "text/html": [
       "<div>\n",
       "<style scoped>\n",
       "    .dataframe tbody tr th:only-of-type {\n",
       "        vertical-align: middle;\n",
       "    }\n",
       "\n",
       "    .dataframe tbody tr th {\n",
       "        vertical-align: top;\n",
       "    }\n",
       "\n",
       "    .dataframe thead th {\n",
       "        text-align: right;\n",
       "    }\n",
       "</style>\n",
       "<table border=\"1\" class=\"dataframe\">\n",
       "  <thead>\n",
       "    <tr style=\"text-align: right;\">\n",
       "      <th></th>\n",
       "      <th>artist_name</th>\n",
       "      <th>num_explicit_tracks</th>\n",
       "    </tr>\n",
       "  </thead>\n",
       "  <tbody>\n",
       "    <tr>\n",
       "      <th>0</th>\n",
       "      <td>Lil Uzi Vert</td>\n",
       "      <td>145</td>\n",
       "    </tr>\n",
       "    <tr>\n",
       "      <th>1</th>\n",
       "      <td>Gunna</td>\n",
       "      <td>134</td>\n",
       "    </tr>\n",
       "    <tr>\n",
       "      <th>2</th>\n",
       "      <td>Lil Baby</td>\n",
       "      <td>124</td>\n",
       "    </tr>\n",
       "    <tr>\n",
       "      <th>3</th>\n",
       "      <td>Juice WRLD</td>\n",
       "      <td>119</td>\n",
       "    </tr>\n",
       "    <tr>\n",
       "      <th>4</th>\n",
       "      <td>NAV</td>\n",
       "      <td>97</td>\n",
       "    </tr>\n",
       "    <tr>\n",
       "      <th>5</th>\n",
       "      <td>J. Cole</td>\n",
       "      <td>96</td>\n",
       "    </tr>\n",
       "    <tr>\n",
       "      <th>6</th>\n",
       "      <td>Drake</td>\n",
       "      <td>95</td>\n",
       "    </tr>\n",
       "    <tr>\n",
       "      <th>7</th>\n",
       "      <td>Post Malone</td>\n",
       "      <td>86</td>\n",
       "    </tr>\n",
       "    <tr>\n",
       "      <th>8</th>\n",
       "      <td>Travis Scott</td>\n",
       "      <td>66</td>\n",
       "    </tr>\n",
       "    <tr>\n",
       "      <th>9</th>\n",
       "      <td>Playboi Carti</td>\n",
       "      <td>58</td>\n",
       "    </tr>\n",
       "  </tbody>\n",
       "</table>\n",
       "</div>"
      ],
      "text/plain": [
       "     artist_name  num_explicit_tracks\n",
       "0   Lil Uzi Vert                  145\n",
       "1          Gunna                  134\n",
       "2       Lil Baby                  124\n",
       "3     Juice WRLD                  119\n",
       "4            NAV                   97\n",
       "5        J. Cole                   96\n",
       "6          Drake                   95\n",
       "7    Post Malone                   86\n",
       "8   Travis Scott                   66\n",
       "9  Playboi Carti                   58"
      ]
     },
     "execution_count": 72,
     "metadata": {},
     "output_type": "execute_result"
    }
   ],
   "source": [
    "Q('''\n",
    "SELECT *\n",
    "FROM top_10_explicit_artist_view;\n",
    "''')"
   ]
  },
  {
   "cell_type": "code",
   "execution_count": null,
   "id": "04c35366",
   "metadata": {},
   "outputs": [],
   "source": []
  },
  {
   "cell_type": "code",
   "execution_count": null,
   "id": "0ce0bd79",
   "metadata": {},
   "outputs": [],
   "source": []
  },
  {
   "cell_type": "code",
   "execution_count": null,
   "id": "aacd5b4c",
   "metadata": {},
   "outputs": [],
   "source": []
  },
  {
   "cell_type": "code",
   "execution_count": null,
   "id": "6658ad65",
   "metadata": {},
   "outputs": [],
   "source": []
  },
  {
   "cell_type": "code",
   "execution_count": null,
   "id": "50720c1f",
   "metadata": {},
   "outputs": [],
   "source": []
  },
  {
   "cell_type": "code",
   "execution_count": null,
   "id": "d6afad13",
   "metadata": {},
   "outputs": [],
   "source": []
  },
  {
   "cell_type": "code",
   "execution_count": null,
   "id": "b8d15ecf",
   "metadata": {},
   "outputs": [],
   "source": []
  },
  {
   "cell_type": "code",
   "execution_count": null,
   "id": "93af21c5",
   "metadata": {},
   "outputs": [],
   "source": []
  },
  {
   "cell_type": "code",
   "execution_count": null,
   "id": "4c314be8",
   "metadata": {},
   "outputs": [],
   "source": []
  },
  {
   "cell_type": "code",
   "execution_count": null,
   "id": "2496fa4d",
   "metadata": {},
   "outputs": [],
   "source": []
  },
  {
   "cell_type": "code",
   "execution_count": null,
   "id": "655e9dad",
   "metadata": {},
   "outputs": [],
   "source": []
  },
  {
   "cell_type": "code",
   "execution_count": null,
   "id": "e698b97d",
   "metadata": {},
   "outputs": [],
   "source": [
    "Q('''\n",
    "PRAGMA table_info(Track_Feature);\n",
    "''')"
   ]
  },
  {
   "cell_type": "code",
   "execution_count": 57,
   "id": "5dbe2ca4",
   "metadata": {},
   "outputs": [
    {
     "data": {
      "text/html": [
       "<div>\n",
       "<style scoped>\n",
       "    .dataframe tbody tr th:only-of-type {\n",
       "        vertical-align: middle;\n",
       "    }\n",
       "\n",
       "    .dataframe tbody tr th {\n",
       "        vertical-align: top;\n",
       "    }\n",
       "\n",
       "    .dataframe thead th {\n",
       "        text-align: right;\n",
       "    }\n",
       "</style>\n",
       "<table border=\"1\" class=\"dataframe\">\n",
       "  <thead>\n",
       "    <tr style=\"text-align: right;\">\n",
       "      <th></th>\n",
       "      <th>name</th>\n",
       "    </tr>\n",
       "  </thead>\n",
       "  <tbody>\n",
       "    <tr>\n",
       "      <th>0</th>\n",
       "      <td>top_5_songs_ms_view</td>\n",
       "    </tr>\n",
       "    <tr>\n",
       "      <th>1</th>\n",
       "      <td>top_10_artist_num_followers_view</td>\n",
       "    </tr>\n",
       "    <tr>\n",
       "      <th>2</th>\n",
       "      <td>top_5_songs_tempo_view</td>\n",
       "    </tr>\n",
       "  </tbody>\n",
       "</table>\n",
       "</div>"
      ],
      "text/plain": [
       "                               name\n",
       "0               top_5_songs_ms_view\n",
       "1  top_10_artist_num_followers_view\n",
       "2            top_5_songs_tempo_view"
      ]
     },
     "execution_count": 57,
     "metadata": {},
     "output_type": "execute_result"
    }
   ],
   "source": [
    "Q('''\n",
    "SELECT name \n",
    "FROM sqlite_schema \n",
    "WHERE type = 'view';\n",
    "''')"
   ]
  },
  {
   "cell_type": "code",
   "execution_count": null,
   "id": "4a12f210",
   "metadata": {},
   "outputs": [],
   "source": [
    "Q('''\n",
    "\n",
    "''')"
   ]
  },
  {
   "cell_type": "code",
   "execution_count": null,
   "id": "4c654444",
   "metadata": {},
   "outputs": [],
   "source": [
    "# commit changes to the database\n",
    "db_conn.commit()\n",
    "\n",
    "# close database connection\n",
    "db_conn.close()"
   ]
  },
  {
   "cell_type": "code",
   "execution_count": null,
   "id": "61608ee3",
   "metadata": {},
   "outputs": [],
   "source": []
  }
 ],
 "metadata": {
  "kernelspec": {
   "display_name": "Python 3 (ipykernel)",
   "language": "python",
   "name": "python3"
  },
  "language_info": {
   "codemirror_mode": {
    "name": "ipython",
    "version": 3
   },
   "file_extension": ".py",
   "mimetype": "text/x-python",
   "name": "python",
   "nbconvert_exporter": "python",
   "pygments_lexer": "ipython3",
   "version": "3.9.7"
  }
 },
 "nbformat": 4,
 "nbformat_minor": 5
}
