{
 "cells": [
  {
   "cell_type": "markdown",
   "id": "f85aa203",
   "metadata": {},
   "source": [
    "# Data Analysis and Visualizations\n",
    "---"
   ]
  },
  {
   "cell_type": "code",
   "execution_count": 1,
   "id": "72c4ed88",
   "metadata": {},
   "outputs": [],
   "source": [
    "import pandas as pd\n",
    "import sqlite3\n",
    "import seaborn as sns\n",
    "import matplotlib.pyplot as plt \n",
    "plt.style.use('fivethirtyeight')\n",
    "\n",
    "# connect to database \n",
    "db_conn = sqlite3.connect('../../data/sql_db/spotify_data.db')\n",
    "\n",
    "# create a function to run queries and output pandas dataframe\n",
    "def Q(query, db=db_conn):\n",
    "    return pd.read_sql(query, db)"
   ]
  },
  {
   "cell_type": "markdown",
   "id": "79842d26",
   "metadata": {},
   "source": [
    "## Check to see if all of our tables loaded."
   ]
  },
  {
   "cell_type": "code",
   "execution_count": 2,
   "id": "45b748a3",
   "metadata": {},
   "outputs": [
    {
     "data": {
      "text/html": [
       "<div>\n",
       "<style scoped>\n",
       "    .dataframe tbody tr th:only-of-type {\n",
       "        vertical-align: middle;\n",
       "    }\n",
       "\n",
       "    .dataframe tbody tr th {\n",
       "        vertical-align: top;\n",
       "    }\n",
       "\n",
       "    .dataframe thead th {\n",
       "        text-align: right;\n",
       "    }\n",
       "</style>\n",
       "<table border=\"1\" class=\"dataframe\">\n",
       "  <thead>\n",
       "    <tr style=\"text-align: right;\">\n",
       "      <th></th>\n",
       "      <th>name</th>\n",
       "    </tr>\n",
       "  </thead>\n",
       "  <tbody>\n",
       "    <tr>\n",
       "      <th>0</th>\n",
       "      <td>Artist</td>\n",
       "    </tr>\n",
       "    <tr>\n",
       "      <th>1</th>\n",
       "      <td>Album</td>\n",
       "    </tr>\n",
       "    <tr>\n",
       "      <th>2</th>\n",
       "      <td>Track</td>\n",
       "    </tr>\n",
       "    <tr>\n",
       "      <th>3</th>\n",
       "      <td>Track_Feature</td>\n",
       "    </tr>\n",
       "  </tbody>\n",
       "</table>\n",
       "</div>"
      ],
      "text/plain": [
       "            name\n",
       "0         Artist\n",
       "1          Album\n",
       "2          Track\n",
       "3  Track_Feature"
      ]
     },
     "execution_count": 2,
     "metadata": {},
     "output_type": "execute_result"
    }
   ],
   "source": [
    "Q('''\n",
    "SELECT name\n",
    "FROM sqlite_master\n",
    "WHERE type = 'table';\n",
    "  ''')"
   ]
  },
  {
   "cell_type": "markdown",
   "id": "311997cd",
   "metadata": {},
   "source": [
    "### As we can see from the output above all 4 tables loaded correctly."
   ]
  },
  {
   "cell_type": "markdown",
   "id": "02bf08f9",
   "metadata": {},
   "source": [
    "## Create views\n",
    "---"
   ]
  },
  {
   "attachments": {},
   "cell_type": "markdown",
   "id": "68d4223c",
   "metadata": {},
   "source": [
    "## Top 10 songs by artist in terms of duration_ms:"
   ]
  },
  {
   "cell_type": "code",
   "execution_count": 3,
   "id": "75260242",
   "metadata": {},
   "outputs": [
    {
     "data": {
      "text/plain": [
       "<sqlite3.Cursor at 0x2986756dc00>"
      ]
     },
     "execution_count": 3,
     "metadata": {},
     "output_type": "execute_result"
    }
   ],
   "source": [
    "# This will drop the view if it exists. Need this in order to rerun code.\n",
    "db_conn.execute('''DROP VIEW IF EXISTS top_10_songs_ms_view;''')"
   ]
  },
  {
   "cell_type": "code",
   "execution_count": 4,
   "id": "cdfc2750",
   "metadata": {},
   "outputs": [
    {
     "data": {
      "text/plain": [
       "<sqlite3.Cursor at 0x2986756dce0>"
      ]
     },
     "execution_count": 4,
     "metadata": {},
     "output_type": "execute_result"
    }
   ],
   "source": [
    "db_conn.execute('''\n",
    "CREATE VIEW top_10_songs_ms_view AS\n",
    "WITH top_songs_by_artist_cte AS \n",
    "-- subquery for cte, want necessary columns and additional column that ranks songs by duration grouped by artist\n",
    "(SELECT ar.artist_name, t.song_name, a.album_name, t.duration_ms,\n",
    "    DENSE_RANK() OVER (PARTITION BY ar.artist_name ORDER BY t.duration_ms DESC) as song_duration_rank_by_artist\n",
    "FROM Artist ar\n",
    "-- join necessary tables together\n",
    "LEFT JOIN Album a \n",
    "    ON a.artist_id = ar.artist_id\n",
    "LEFT JOIN Track t \n",
    "    ON a.album_id = t.album_id\n",
    "ORDER BY t.duration_ms DESC)\n",
    "-- query the cte for top 5 longest songs by artist\n",
    "SELECT *\n",
    "FROM top_songs_by_artist_cte\n",
    "-- only want songs ranked in the top 10\n",
    "WHERE song_duration_rank_by_artist BETWEEN 1 AND 10\n",
    "ORDER BY artist_name ASC, song_duration_rank_by_artist ASC;\n",
    "''')"
   ]
  },
  {
   "cell_type": "code",
   "execution_count": 5,
   "id": "9c3ca420",
   "metadata": {},
   "outputs": [
    {
     "data": {
      "text/html": [
       "<div>\n",
       "<style scoped>\n",
       "    .dataframe tbody tr th:only-of-type {\n",
       "        vertical-align: middle;\n",
       "    }\n",
       "\n",
       "    .dataframe tbody tr th {\n",
       "        vertical-align: top;\n",
       "    }\n",
       "\n",
       "    .dataframe thead th {\n",
       "        text-align: right;\n",
       "    }\n",
       "</style>\n",
       "<table border=\"1\" class=\"dataframe\">\n",
       "  <thead>\n",
       "    <tr style=\"text-align: right;\">\n",
       "      <th></th>\n",
       "      <th>artist_name</th>\n",
       "      <th>song_name</th>\n",
       "      <th>album_name</th>\n",
       "      <th>duration_ms</th>\n",
       "      <th>song_duration_rank_by_artist</th>\n",
       "    </tr>\n",
       "  </thead>\n",
       "  <tbody>\n",
       "    <tr>\n",
       "      <th>0</th>\n",
       "      <td>Baby Keem</td>\n",
       "      <td>range brothers (with Kendrick Lamar)</td>\n",
       "      <td>The Melodic Blue</td>\n",
       "      <td>316733</td>\n",
       "      <td>1</td>\n",
       "    </tr>\n",
       "    <tr>\n",
       "      <th>1</th>\n",
       "      <td>Baby Keem</td>\n",
       "      <td>trademark usa</td>\n",
       "      <td>The Melodic Blue</td>\n",
       "      <td>270670</td>\n",
       "      <td>2</td>\n",
       "    </tr>\n",
       "    <tr>\n",
       "      <th>2</th>\n",
       "      <td>Baby Keem</td>\n",
       "      <td>lost souls</td>\n",
       "      <td>The Melodic Blue</td>\n",
       "      <td>269727</td>\n",
       "      <td>3</td>\n",
       "    </tr>\n",
       "    <tr>\n",
       "      <th>3</th>\n",
       "      <td>Baby Keem</td>\n",
       "      <td>lost souls (with Brent Faiyaz)</td>\n",
       "      <td>The Melodic Blue</td>\n",
       "      <td>269727</td>\n",
       "      <td>3</td>\n",
       "    </tr>\n",
       "    <tr>\n",
       "      <th>4</th>\n",
       "      <td>Baby Keem</td>\n",
       "      <td>scars</td>\n",
       "      <td>The Melodic Blue</td>\n",
       "      <td>266010</td>\n",
       "      <td>4</td>\n",
       "    </tr>\n",
       "    <tr>\n",
       "      <th>...</th>\n",
       "      <td>...</td>\n",
       "      <td>...</td>\n",
       "      <td>...</td>\n",
       "      <td>...</td>\n",
       "      <td>...</td>\n",
       "    </tr>\n",
       "    <tr>\n",
       "      <th>228</th>\n",
       "      <td>Travis Scott</td>\n",
       "      <td>STOP TRYING TO BE GOD</td>\n",
       "      <td>ASTROWORLD</td>\n",
       "      <td>338438</td>\n",
       "      <td>6</td>\n",
       "    </tr>\n",
       "    <tr>\n",
       "      <th>229</th>\n",
       "      <td>Travis Scott</td>\n",
       "      <td>Nightcrawler (feat. Swae Lee &amp; Chief Keef)</td>\n",
       "      <td>Rodeo (Expanded Edition)</td>\n",
       "      <td>321560</td>\n",
       "      <td>7</td>\n",
       "    </tr>\n",
       "    <tr>\n",
       "      <th>230</th>\n",
       "      <td>Travis Scott</td>\n",
       "      <td>first take</td>\n",
       "      <td>Birds In The Trap Sing McKnight</td>\n",
       "      <td>313909</td>\n",
       "      <td>8</td>\n",
       "    </tr>\n",
       "    <tr>\n",
       "      <th>231</th>\n",
       "      <td>Travis Scott</td>\n",
       "      <td>SICKO MODE</td>\n",
       "      <td>ASTROWORLD</td>\n",
       "      <td>312820</td>\n",
       "      <td>9</td>\n",
       "    </tr>\n",
       "    <tr>\n",
       "      <th>232</th>\n",
       "      <td>Travis Scott</td>\n",
       "      <td>Pray 4 Love (feat. The Weeknd)</td>\n",
       "      <td>Rodeo (Expanded Edition)</td>\n",
       "      <td>307000</td>\n",
       "      <td>10</td>\n",
       "    </tr>\n",
       "  </tbody>\n",
       "</table>\n",
       "<p>233 rows × 5 columns</p>\n",
       "</div>"
      ],
      "text/plain": [
       "      artist_name                                   song_name  \\\n",
       "0       Baby Keem        range brothers (with Kendrick Lamar)   \n",
       "1       Baby Keem                               trademark usa   \n",
       "2       Baby Keem                                  lost souls   \n",
       "3       Baby Keem              lost souls (with Brent Faiyaz)   \n",
       "4       Baby Keem                                       scars   \n",
       "..            ...                                         ...   \n",
       "228  Travis Scott                       STOP TRYING TO BE GOD   \n",
       "229  Travis Scott  Nightcrawler (feat. Swae Lee & Chief Keef)   \n",
       "230  Travis Scott                                  first take   \n",
       "231  Travis Scott                                  SICKO MODE   \n",
       "232  Travis Scott              Pray 4 Love (feat. The Weeknd)   \n",
       "\n",
       "                          album_name  duration_ms  \\\n",
       "0                   The Melodic Blue       316733   \n",
       "1                   The Melodic Blue       270670   \n",
       "2                   The Melodic Blue       269727   \n",
       "3                   The Melodic Blue       269727   \n",
       "4                   The Melodic Blue       266010   \n",
       "..                               ...          ...   \n",
       "228                       ASTROWORLD       338438   \n",
       "229         Rodeo (Expanded Edition)       321560   \n",
       "230  Birds In The Trap Sing McKnight       313909   \n",
       "231                       ASTROWORLD       312820   \n",
       "232         Rodeo (Expanded Edition)       307000   \n",
       "\n",
       "     song_duration_rank_by_artist  \n",
       "0                               1  \n",
       "1                               2  \n",
       "2                               3  \n",
       "3                               3  \n",
       "4                               4  \n",
       "..                            ...  \n",
       "228                             6  \n",
       "229                             7  \n",
       "230                             8  \n",
       "231                             9  \n",
       "232                            10  \n",
       "\n",
       "[233 rows x 5 columns]"
      ]
     },
     "execution_count": 5,
     "metadata": {},
     "output_type": "execute_result"
    }
   ],
   "source": [
    "Q('''\n",
    "SELECT *\n",
    "FROM top_10_songs_ms_view;\n",
    "''')"
   ]
  },
  {
   "cell_type": "markdown",
   "id": "ff4d560b",
   "metadata": {},
   "source": [
    "### As we can see from the output above our view creation was a success. Now to create the 2nd view."
   ]
  },
  {
   "attachments": {},
   "cell_type": "markdown",
   "id": "b55e9485",
   "metadata": {},
   "source": [
    "## Top 20 artists in the database by # of followers:"
   ]
  },
  {
   "cell_type": "code",
   "execution_count": 6,
   "id": "bf37fc00",
   "metadata": {},
   "outputs": [
    {
     "data": {
      "text/plain": [
       "<sqlite3.Cursor at 0x298675b9730>"
      ]
     },
     "execution_count": 6,
     "metadata": {},
     "output_type": "execute_result"
    }
   ],
   "source": [
    "db_conn.execute('''DROP VIEW IF EXISTS top_20_artist_num_followers_view;''')"
   ]
  },
  {
   "cell_type": "code",
   "execution_count": 7,
   "id": "c5d368f4",
   "metadata": {},
   "outputs": [
    {
     "data": {
      "text/plain": [
       "<sqlite3.Cursor at 0x298675b9960>"
      ]
     },
     "execution_count": 7,
     "metadata": {},
     "output_type": "execute_result"
    }
   ],
   "source": [
    "db_conn.execute('''\n",
    "CREATE VIEW top_20_artist_num_followers_view AS\n",
    "SELECT artist_name, genre, followers, popularity\n",
    "FROM Artist\n",
    "ORDER BY followers DESC\n",
    "LIMIT 20;\n",
    "''')"
   ]
  },
  {
   "cell_type": "code",
   "execution_count": 8,
   "id": "aafe9209",
   "metadata": {},
   "outputs": [
    {
     "data": {
      "text/html": [
       "<div>\n",
       "<style scoped>\n",
       "    .dataframe tbody tr th:only-of-type {\n",
       "        vertical-align: middle;\n",
       "    }\n",
       "\n",
       "    .dataframe tbody tr th {\n",
       "        vertical-align: top;\n",
       "    }\n",
       "\n",
       "    .dataframe thead th {\n",
       "        text-align: right;\n",
       "    }\n",
       "</style>\n",
       "<table border=\"1\" class=\"dataframe\">\n",
       "  <thead>\n",
       "    <tr style=\"text-align: right;\">\n",
       "      <th></th>\n",
       "      <th>artist_name</th>\n",
       "      <th>genre</th>\n",
       "      <th>followers</th>\n",
       "      <th>popularity</th>\n",
       "    </tr>\n",
       "  </thead>\n",
       "  <tbody>\n",
       "    <tr>\n",
       "      <th>0</th>\n",
       "      <td>Drake</td>\n",
       "      <td>canadian hip hop</td>\n",
       "      <td>66995809</td>\n",
       "      <td>95</td>\n",
       "    </tr>\n",
       "    <tr>\n",
       "      <th>1</th>\n",
       "      <td>The Weeknd</td>\n",
       "      <td>canadian contemporary r&amp;b</td>\n",
       "      <td>49629059</td>\n",
       "      <td>94</td>\n",
       "    </tr>\n",
       "    <tr>\n",
       "      <th>2</th>\n",
       "      <td>Post Malone</td>\n",
       "      <td>dfw rap</td>\n",
       "      <td>38142353</td>\n",
       "      <td>89</td>\n",
       "    </tr>\n",
       "    <tr>\n",
       "      <th>3</th>\n",
       "      <td>Juice WRLD</td>\n",
       "      <td>chicago rap</td>\n",
       "      <td>25652049</td>\n",
       "      <td>89</td>\n",
       "    </tr>\n",
       "    <tr>\n",
       "      <th>4</th>\n",
       "      <td>Michael Jackson</td>\n",
       "      <td>pop</td>\n",
       "      <td>24129716</td>\n",
       "      <td>82</td>\n",
       "    </tr>\n",
       "    <tr>\n",
       "      <th>5</th>\n",
       "      <td>Travis Scott</td>\n",
       "      <td>hip hop</td>\n",
       "      <td>21019843</td>\n",
       "      <td>87</td>\n",
       "    </tr>\n",
       "    <tr>\n",
       "      <th>6</th>\n",
       "      <td>Kanye West</td>\n",
       "      <td>chicago rap</td>\n",
       "      <td>18214609</td>\n",
       "      <td>91</td>\n",
       "    </tr>\n",
       "    <tr>\n",
       "      <th>7</th>\n",
       "      <td>J. Cole</td>\n",
       "      <td>conscious hip hop</td>\n",
       "      <td>17879851</td>\n",
       "      <td>85</td>\n",
       "    </tr>\n",
       "    <tr>\n",
       "      <th>8</th>\n",
       "      <td>Lil Uzi Vert</td>\n",
       "      <td>melodic rap</td>\n",
       "      <td>13770423</td>\n",
       "      <td>85</td>\n",
       "    </tr>\n",
       "    <tr>\n",
       "      <th>9</th>\n",
       "      <td>Future</td>\n",
       "      <td>atl hip hop</td>\n",
       "      <td>12133503</td>\n",
       "      <td>88</td>\n",
       "    </tr>\n",
       "    <tr>\n",
       "      <th>10</th>\n",
       "      <td>Lil Baby</td>\n",
       "      <td>atl hip hop</td>\n",
       "      <td>11567390</td>\n",
       "      <td>89</td>\n",
       "    </tr>\n",
       "    <tr>\n",
       "      <th>11</th>\n",
       "      <td>Playboi Carti</td>\n",
       "      <td>atl hip hop</td>\n",
       "      <td>6935321</td>\n",
       "      <td>82</td>\n",
       "    </tr>\n",
       "    <tr>\n",
       "      <th>12</th>\n",
       "      <td>Bryson Tiller</td>\n",
       "      <td>kentucky hip hop</td>\n",
       "      <td>5955351</td>\n",
       "      <td>78</td>\n",
       "    </tr>\n",
       "    <tr>\n",
       "      <th>13</th>\n",
       "      <td>Gunna</td>\n",
       "      <td>atl hip hop</td>\n",
       "      <td>4570307</td>\n",
       "      <td>84</td>\n",
       "    </tr>\n",
       "    <tr>\n",
       "      <th>14</th>\n",
       "      <td>NAV</td>\n",
       "      <td>canadian hip hop</td>\n",
       "      <td>3082804</td>\n",
       "      <td>79</td>\n",
       "    </tr>\n",
       "    <tr>\n",
       "      <th>15</th>\n",
       "      <td>Brent Faiyaz</td>\n",
       "      <td>dmv rap</td>\n",
       "      <td>2732153</td>\n",
       "      <td>81</td>\n",
       "    </tr>\n",
       "    <tr>\n",
       "      <th>16</th>\n",
       "      <td>Don Toliver</td>\n",
       "      <td>pop</td>\n",
       "      <td>2280131</td>\n",
       "      <td>79</td>\n",
       "    </tr>\n",
       "    <tr>\n",
       "      <th>17</th>\n",
       "      <td>Cordae</td>\n",
       "      <td>dmv rap</td>\n",
       "      <td>1805100</td>\n",
       "      <td>68</td>\n",
       "    </tr>\n",
       "    <tr>\n",
       "      <th>18</th>\n",
       "      <td>Baby Keem</td>\n",
       "      <td>hip hop</td>\n",
       "      <td>1054531</td>\n",
       "      <td>79</td>\n",
       "    </tr>\n",
       "    <tr>\n",
       "      <th>19</th>\n",
       "      <td>JID</td>\n",
       "      <td>hip hop</td>\n",
       "      <td>993892</td>\n",
       "      <td>80</td>\n",
       "    </tr>\n",
       "  </tbody>\n",
       "</table>\n",
       "</div>"
      ],
      "text/plain": [
       "        artist_name                      genre  followers  popularity\n",
       "0             Drake           canadian hip hop   66995809          95\n",
       "1        The Weeknd  canadian contemporary r&b   49629059          94\n",
       "2       Post Malone                    dfw rap   38142353          89\n",
       "3        Juice WRLD                chicago rap   25652049          89\n",
       "4   Michael Jackson                        pop   24129716          82\n",
       "5      Travis Scott                    hip hop   21019843          87\n",
       "6        Kanye West                chicago rap   18214609          91\n",
       "7           J. Cole          conscious hip hop   17879851          85\n",
       "8      Lil Uzi Vert                melodic rap   13770423          85\n",
       "9            Future                atl hip hop   12133503          88\n",
       "10         Lil Baby                atl hip hop   11567390          89\n",
       "11    Playboi Carti                atl hip hop    6935321          82\n",
       "12    Bryson Tiller           kentucky hip hop    5955351          78\n",
       "13            Gunna                atl hip hop    4570307          84\n",
       "14              NAV           canadian hip hop    3082804          79\n",
       "15     Brent Faiyaz                    dmv rap    2732153          81\n",
       "16      Don Toliver                        pop    2280131          79\n",
       "17           Cordae                    dmv rap    1805100          68\n",
       "18        Baby Keem                    hip hop    1054531          79\n",
       "19              JID                    hip hop     993892          80"
      ]
     },
     "execution_count": 8,
     "metadata": {},
     "output_type": "execute_result"
    }
   ],
   "source": [
    "Q('''\n",
    "SELECT *\n",
    "FROM top_20_artist_num_followers_view;\n",
    "''')"
   ]
  },
  {
   "cell_type": "markdown",
   "id": "74c64bd5",
   "metadata": {},
   "source": [
    "### As we can see from the output above we successfully created a view with the top 10 artist by number of followers. Now to create the 3rd view."
   ]
  },
  {
   "cell_type": "markdown",
   "id": "f6436a0f",
   "metadata": {},
   "source": [
    "## Top 10 songs by artist in terms of tempo:"
   ]
  },
  {
   "cell_type": "code",
   "execution_count": 9,
   "id": "71ba5599",
   "metadata": {},
   "outputs": [
    {
     "data": {
      "text/plain": [
       "<sqlite3.Cursor at 0x298675b9b90>"
      ]
     },
     "execution_count": 9,
     "metadata": {},
     "output_type": "execute_result"
    }
   ],
   "source": [
    "db_conn.execute('''DROP VIEW IF EXISTS top_10_songs_tempo_view;''')"
   ]
  },
  {
   "cell_type": "code",
   "execution_count": 10,
   "id": "bf6f2527",
   "metadata": {},
   "outputs": [
    {
     "data": {
      "text/plain": [
       "<sqlite3.Cursor at 0x298675b9ce0>"
      ]
     },
     "execution_count": 10,
     "metadata": {},
     "output_type": "execute_result"
    }
   ],
   "source": [
    "db_conn.execute('''\n",
    "CREATE VIEW top_10_songs_tempo_view AS\n",
    "WITH top_tempo_cte AS\n",
    "-- subquery for cte, need to rank songs by tempo\n",
    "(SELECT ar.artist_name, t.song_name, tf.tempo,\n",
    "    DENSE_RANK() OVER (PARTITION BY ar.artist_name ORDER BY tf.tempo DESC) as tempo_rank_by_artist\n",
    "FROM Artist ar\n",
    "-- join necessary tables together\n",
    "LEFT JOIN Album a \n",
    "    ON a.artist_id = ar.artist_id\n",
    "LEFT JOIN Track t \n",
    "    ON a.album_id = t.album_id\n",
    "LEFT JOIN Track_Feature tf\n",
    "    ON t.track_id = tf.track_id)\n",
    "-- query the cte for top 5 tracks with highest tempo\n",
    "SELECT *\n",
    "FROM top_tempo_cte\n",
    "WHERE tempo_rank_by_artist BETWEEN 1 AND 10\n",
    "ORDER BY artist_name ASC, tempo_rank_by_artist ASC;\n",
    "''')"
   ]
  },
  {
   "cell_type": "code",
   "execution_count": 11,
   "id": "8d08ad92",
   "metadata": {},
   "outputs": [
    {
     "data": {
      "text/html": [
       "<div>\n",
       "<style scoped>\n",
       "    .dataframe tbody tr th:only-of-type {\n",
       "        vertical-align: middle;\n",
       "    }\n",
       "\n",
       "    .dataframe tbody tr th {\n",
       "        vertical-align: top;\n",
       "    }\n",
       "\n",
       "    .dataframe thead th {\n",
       "        text-align: right;\n",
       "    }\n",
       "</style>\n",
       "<table border=\"1\" class=\"dataframe\">\n",
       "  <thead>\n",
       "    <tr style=\"text-align: right;\">\n",
       "      <th></th>\n",
       "      <th>artist_name</th>\n",
       "      <th>song_name</th>\n",
       "      <th>tempo</th>\n",
       "      <th>tempo_rank_by_artist</th>\n",
       "    </tr>\n",
       "  </thead>\n",
       "  <tbody>\n",
       "    <tr>\n",
       "      <th>0</th>\n",
       "      <td>Baby Keem</td>\n",
       "      <td>no sense</td>\n",
       "      <td>180.013</td>\n",
       "      <td>1</td>\n",
       "    </tr>\n",
       "    <tr>\n",
       "      <th>1</th>\n",
       "      <td>Baby Keem</td>\n",
       "      <td>Xmen</td>\n",
       "      <td>170.030</td>\n",
       "      <td>2</td>\n",
       "    </tr>\n",
       "    <tr>\n",
       "      <th>2</th>\n",
       "      <td>Baby Keem</td>\n",
       "      <td>lost souls</td>\n",
       "      <td>170.022</td>\n",
       "      <td>3</td>\n",
       "    </tr>\n",
       "    <tr>\n",
       "      <th>3</th>\n",
       "      <td>Baby Keem</td>\n",
       "      <td>lost souls (with Brent Faiyaz)</td>\n",
       "      <td>169.994</td>\n",
       "      <td>4</td>\n",
       "    </tr>\n",
       "    <tr>\n",
       "      <th>4</th>\n",
       "      <td>Baby Keem</td>\n",
       "      <td>Miss Charlotte</td>\n",
       "      <td>161.989</td>\n",
       "      <td>5</td>\n",
       "    </tr>\n",
       "    <tr>\n",
       "      <th>...</th>\n",
       "      <td>...</td>\n",
       "      <td>...</td>\n",
       "      <td>...</td>\n",
       "      <td>...</td>\n",
       "    </tr>\n",
       "    <tr>\n",
       "      <th>210</th>\n",
       "      <td>Travis Scott</td>\n",
       "      <td>SICKO MODE</td>\n",
       "      <td>155.008</td>\n",
       "      <td>6</td>\n",
       "    </tr>\n",
       "    <tr>\n",
       "      <th>211</th>\n",
       "      <td>Travis Scott</td>\n",
       "      <td>HIGHEST IN THE ROOM (feat. ROSALÍA &amp; Lil Baby)...</td>\n",
       "      <td>153.131</td>\n",
       "      <td>7</td>\n",
       "    </tr>\n",
       "    <tr>\n",
       "      <th>212</th>\n",
       "      <td>Travis Scott</td>\n",
       "      <td>ASTROTHUNDER</td>\n",
       "      <td>151.901</td>\n",
       "      <td>8</td>\n",
       "    </tr>\n",
       "    <tr>\n",
       "      <th>213</th>\n",
       "      <td>Travis Scott</td>\n",
       "      <td>Saint</td>\n",
       "      <td>150.058</td>\n",
       "      <td>9</td>\n",
       "    </tr>\n",
       "    <tr>\n",
       "      <th>214</th>\n",
       "      <td>Travis Scott</td>\n",
       "      <td>STOP TRYING TO BE GOD</td>\n",
       "      <td>150.009</td>\n",
       "      <td>10</td>\n",
       "    </tr>\n",
       "  </tbody>\n",
       "</table>\n",
       "<p>215 rows × 4 columns</p>\n",
       "</div>"
      ],
      "text/plain": [
       "      artist_name                                          song_name    tempo  \\\n",
       "0       Baby Keem                                           no sense  180.013   \n",
       "1       Baby Keem                                               Xmen  170.030   \n",
       "2       Baby Keem                                         lost souls  170.022   \n",
       "3       Baby Keem                     lost souls (with Brent Faiyaz)  169.994   \n",
       "4       Baby Keem                                     Miss Charlotte  161.989   \n",
       "..            ...                                                ...      ...   \n",
       "210  Travis Scott                                         SICKO MODE  155.008   \n",
       "211  Travis Scott  HIGHEST IN THE ROOM (feat. ROSALÍA & Lil Baby)...  153.131   \n",
       "212  Travis Scott                                       ASTROTHUNDER  151.901   \n",
       "213  Travis Scott                                              Saint  150.058   \n",
       "214  Travis Scott                              STOP TRYING TO BE GOD  150.009   \n",
       "\n",
       "     tempo_rank_by_artist  \n",
       "0                       1  \n",
       "1                       2  \n",
       "2                       3  \n",
       "3                       4  \n",
       "4                       5  \n",
       "..                    ...  \n",
       "210                     6  \n",
       "211                     7  \n",
       "212                     8  \n",
       "213                     9  \n",
       "214                    10  \n",
       "\n",
       "[215 rows x 4 columns]"
      ]
     },
     "execution_count": 11,
     "metadata": {},
     "output_type": "execute_result"
    }
   ],
   "source": [
    "Q('''\n",
    "SELECT *\n",
    "FROM top_10_songs_tempo_view;\n",
    "''')"
   ]
  },
  {
   "cell_type": "markdown",
   "id": "2e135584",
   "metadata": {},
   "source": [
    "### The view creation was a success, now let's work on our 4th view."
   ]
  },
  {
   "cell_type": "markdown",
   "id": "03bc8aa5",
   "metadata": {},
   "source": [
    "## Top 10 Artists with most explicit tracks:"
   ]
  },
  {
   "cell_type": "code",
   "execution_count": 12,
   "id": "4ef41ffa",
   "metadata": {},
   "outputs": [
    {
     "data": {
      "text/plain": [
       "<sqlite3.Cursor at 0x298675ea650>"
      ]
     },
     "execution_count": 12,
     "metadata": {},
     "output_type": "execute_result"
    }
   ],
   "source": [
    "db_conn.execute('''DROP VIEW IF EXISTS top_10_explicit_artist_view;''')"
   ]
  },
  {
   "cell_type": "code",
   "execution_count": 13,
   "id": "6f0b5e97",
   "metadata": {},
   "outputs": [
    {
     "data": {
      "text/plain": [
       "<sqlite3.Cursor at 0x298675ea7a0>"
      ]
     },
     "execution_count": 13,
     "metadata": {},
     "output_type": "execute_result"
    }
   ],
   "source": [
    "db_conn.execute('''\n",
    "CREATE VIEW top_10_explicit_artist_view AS\n",
    "SELECT ar.artist_name, SUM(t.explicit) as num_explicit_tracks\n",
    "FROM Artist ar\n",
    "-- join necessary tables together\n",
    "LEFT JOIN Album a \n",
    "    ON a.artist_id = ar.artist_id\n",
    "LEFT JOIN Track t \n",
    "    ON a.album_id = t.album_id\n",
    "GROUP BY ar.artist_name\n",
    "ORDER BY num_explicit_tracks DESC\n",
    "LIMIT 10;\n",
    "''')"
   ]
  },
  {
   "cell_type": "code",
   "execution_count": 14,
   "id": "393349d9",
   "metadata": {},
   "outputs": [
    {
     "data": {
      "text/html": [
       "<div>\n",
       "<style scoped>\n",
       "    .dataframe tbody tr th:only-of-type {\n",
       "        vertical-align: middle;\n",
       "    }\n",
       "\n",
       "    .dataframe tbody tr th {\n",
       "        vertical-align: top;\n",
       "    }\n",
       "\n",
       "    .dataframe thead th {\n",
       "        text-align: right;\n",
       "    }\n",
       "</style>\n",
       "<table border=\"1\" class=\"dataframe\">\n",
       "  <thead>\n",
       "    <tr style=\"text-align: right;\">\n",
       "      <th></th>\n",
       "      <th>artist_name</th>\n",
       "      <th>num_explicit_tracks</th>\n",
       "    </tr>\n",
       "  </thead>\n",
       "  <tbody>\n",
       "    <tr>\n",
       "      <th>0</th>\n",
       "      <td>Lil Uzi Vert</td>\n",
       "      <td>145</td>\n",
       "    </tr>\n",
       "    <tr>\n",
       "      <th>1</th>\n",
       "      <td>Gunna</td>\n",
       "      <td>134</td>\n",
       "    </tr>\n",
       "    <tr>\n",
       "      <th>2</th>\n",
       "      <td>Lil Baby</td>\n",
       "      <td>124</td>\n",
       "    </tr>\n",
       "    <tr>\n",
       "      <th>3</th>\n",
       "      <td>Juice WRLD</td>\n",
       "      <td>119</td>\n",
       "    </tr>\n",
       "    <tr>\n",
       "      <th>4</th>\n",
       "      <td>NAV</td>\n",
       "      <td>97</td>\n",
       "    </tr>\n",
       "    <tr>\n",
       "      <th>5</th>\n",
       "      <td>J. Cole</td>\n",
       "      <td>96</td>\n",
       "    </tr>\n",
       "    <tr>\n",
       "      <th>6</th>\n",
       "      <td>Drake</td>\n",
       "      <td>95</td>\n",
       "    </tr>\n",
       "    <tr>\n",
       "      <th>7</th>\n",
       "      <td>Post Malone</td>\n",
       "      <td>86</td>\n",
       "    </tr>\n",
       "    <tr>\n",
       "      <th>8</th>\n",
       "      <td>Travis Scott</td>\n",
       "      <td>66</td>\n",
       "    </tr>\n",
       "    <tr>\n",
       "      <th>9</th>\n",
       "      <td>Playboi Carti</td>\n",
       "      <td>58</td>\n",
       "    </tr>\n",
       "  </tbody>\n",
       "</table>\n",
       "</div>"
      ],
      "text/plain": [
       "     artist_name  num_explicit_tracks\n",
       "0   Lil Uzi Vert                  145\n",
       "1          Gunna                  134\n",
       "2       Lil Baby                  124\n",
       "3     Juice WRLD                  119\n",
       "4            NAV                   97\n",
       "5        J. Cole                   96\n",
       "6          Drake                   95\n",
       "7    Post Malone                   86\n",
       "8   Travis Scott                   66\n",
       "9  Playboi Carti                   58"
      ]
     },
     "execution_count": 14,
     "metadata": {},
     "output_type": "execute_result"
    }
   ],
   "source": [
    "Q('''\n",
    "SELECT *\n",
    "FROM top_10_explicit_artist_view;\n",
    "''')"
   ]
  },
  {
   "cell_type": "markdown",
   "id": "caa0a315",
   "metadata": {},
   "source": [
    "### View creation was a success, now let's create our 5th view."
   ]
  },
  {
   "cell_type": "markdown",
   "id": "c4509af5",
   "metadata": {},
   "source": [
    "## Top 5 genres with highest average energy:"
   ]
  },
  {
   "cell_type": "code",
   "execution_count": 15,
   "id": "fc8f12fa",
   "metadata": {},
   "outputs": [
    {
     "data": {
      "text/plain": [
       "<sqlite3.Cursor at 0x298675eab90>"
      ]
     },
     "execution_count": 15,
     "metadata": {},
     "output_type": "execute_result"
    }
   ],
   "source": [
    "db_conn.execute('''DROP VIEW IF EXISTS top_5_genres_avg_energy_view;''')"
   ]
  },
  {
   "cell_type": "code",
   "execution_count": 16,
   "id": "f1ef0205",
   "metadata": {},
   "outputs": [
    {
     "data": {
      "text/plain": [
       "<sqlite3.Cursor at 0x298675eac70>"
      ]
     },
     "execution_count": 16,
     "metadata": {},
     "output_type": "execute_result"
    }
   ],
   "source": [
    "db_conn.execute('''\n",
    "CREATE VIEW top_5_genres_avg_energy_view AS\n",
    "SELECT ar.genre, AVG(tf.energy) as avg_energy\n",
    "FROM Artist ar\n",
    "-- join necessary tables together\n",
    "LEFT JOIN Album a \n",
    "    ON a.artist_id = ar.artist_id\n",
    "LEFT JOIN Track t \n",
    "    ON a.album_id = t.album_id\n",
    "LEFT JOIN Track_Feature tf\n",
    "    ON t.track_id = tf.track_id\n",
    "GROUP BY genre\n",
    "ORDER BY avg_energy DESC\n",
    "LIMIT 5;\n",
    "''')"
   ]
  },
  {
   "cell_type": "code",
   "execution_count": 17,
   "id": "f92c3588",
   "metadata": {},
   "outputs": [
    {
     "data": {
      "text/html": [
       "<div>\n",
       "<style scoped>\n",
       "    .dataframe tbody tr th:only-of-type {\n",
       "        vertical-align: middle;\n",
       "    }\n",
       "\n",
       "    .dataframe tbody tr th {\n",
       "        vertical-align: top;\n",
       "    }\n",
       "\n",
       "    .dataframe thead th {\n",
       "        text-align: right;\n",
       "    }\n",
       "</style>\n",
       "<table border=\"1\" class=\"dataframe\">\n",
       "  <thead>\n",
       "    <tr style=\"text-align: right;\">\n",
       "      <th></th>\n",
       "      <th>genre</th>\n",
       "      <th>avg_energy</th>\n",
       "    </tr>\n",
       "  </thead>\n",
       "  <tbody>\n",
       "    <tr>\n",
       "      <th>0</th>\n",
       "      <td>pop</td>\n",
       "      <td>0.671194</td>\n",
       "    </tr>\n",
       "    <tr>\n",
       "      <th>1</th>\n",
       "      <td>canadian contemporary r&amp;b</td>\n",
       "      <td>0.641479</td>\n",
       "    </tr>\n",
       "    <tr>\n",
       "      <th>2</th>\n",
       "      <td>melodic rap</td>\n",
       "      <td>0.622972</td>\n",
       "    </tr>\n",
       "    <tr>\n",
       "      <th>3</th>\n",
       "      <td>conscious hip hop</td>\n",
       "      <td>0.602649</td>\n",
       "    </tr>\n",
       "    <tr>\n",
       "      <th>4</th>\n",
       "      <td>hip hop</td>\n",
       "      <td>0.598795</td>\n",
       "    </tr>\n",
       "  </tbody>\n",
       "</table>\n",
       "</div>"
      ],
      "text/plain": [
       "                       genre  avg_energy\n",
       "0                        pop    0.671194\n",
       "1  canadian contemporary r&b    0.641479\n",
       "2                melodic rap    0.622972\n",
       "3          conscious hip hop    0.602649\n",
       "4                    hip hop    0.598795"
      ]
     },
     "execution_count": 17,
     "metadata": {},
     "output_type": "execute_result"
    }
   ],
   "source": [
    "Q('''\n",
    "SELECT *\n",
    "FROM top_5_genres_avg_energy_view;\n",
    "''')"
   ]
  },
  {
   "cell_type": "markdown",
   "id": "26eba4f1",
   "metadata": {},
   "source": [
    "### View created with no errors, now to create our last view."
   ]
  },
  {
   "cell_type": "markdown",
   "id": "4251bcb3",
   "metadata": {},
   "source": [
    "## Top 5 Artists with the most Deluxe/bonus albums:"
   ]
  },
  {
   "cell_type": "code",
   "execution_count": 18,
   "id": "8dbe6f09",
   "metadata": {},
   "outputs": [
    {
     "data": {
      "text/plain": [
       "<sqlite3.Cursor at 0x29867604110>"
      ]
     },
     "execution_count": 18,
     "metadata": {},
     "output_type": "execute_result"
    }
   ],
   "source": [
    "db_conn.execute('''DROP VIEW IF EXISTS top_5_artist_num_deluxe_view;''')"
   ]
  },
  {
   "cell_type": "code",
   "execution_count": 19,
   "id": "a5cb6791",
   "metadata": {},
   "outputs": [
    {
     "data": {
      "text/plain": [
       "<sqlite3.Cursor at 0x29867604260>"
      ]
     },
     "execution_count": 19,
     "metadata": {},
     "output_type": "execute_result"
    }
   ],
   "source": [
    "db_conn.execute('''\n",
    "CREATE VIEW top_5_artist_num_deluxe_view AS\n",
    "SELECT ar.artist_name, COUNT(a.album_name) as num_deluxe_albs\n",
    "FROM Artist ar\n",
    "-- join necessary tables together\n",
    "LEFT JOIN Album a \n",
    "    ON a.artist_id = ar.artist_id\n",
    "WHERE album_name LIKE '%deluxe%' OR album_name LIKE '%bonus%'\n",
    "GROUP BY ar.artist_name\n",
    "ORDER BY num_deluxe_albs DESC\n",
    "LIMIT 5;\n",
    "''')"
   ]
  },
  {
   "cell_type": "code",
   "execution_count": 20,
   "id": "0fa3091c",
   "metadata": {},
   "outputs": [
    {
     "data": {
      "text/html": [
       "<div>\n",
       "<style scoped>\n",
       "    .dataframe tbody tr th:only-of-type {\n",
       "        vertical-align: middle;\n",
       "    }\n",
       "\n",
       "    .dataframe tbody tr th {\n",
       "        vertical-align: top;\n",
       "    }\n",
       "\n",
       "    .dataframe thead th {\n",
       "        text-align: right;\n",
       "    }\n",
       "</style>\n",
       "<table border=\"1\" class=\"dataframe\">\n",
       "  <thead>\n",
       "    <tr style=\"text-align: right;\">\n",
       "      <th></th>\n",
       "      <th>artist_name</th>\n",
       "      <th>num_deluxe_albs</th>\n",
       "    </tr>\n",
       "  </thead>\n",
       "  <tbody>\n",
       "    <tr>\n",
       "      <th>0</th>\n",
       "      <td>NAV</td>\n",
       "      <td>3</td>\n",
       "    </tr>\n",
       "    <tr>\n",
       "      <th>1</th>\n",
       "      <td>Lil Uzi Vert</td>\n",
       "      <td>3</td>\n",
       "    </tr>\n",
       "    <tr>\n",
       "      <th>2</th>\n",
       "      <td>Post Malone</td>\n",
       "      <td>2</td>\n",
       "    </tr>\n",
       "    <tr>\n",
       "      <th>3</th>\n",
       "      <td>Kanye West</td>\n",
       "      <td>2</td>\n",
       "    </tr>\n",
       "    <tr>\n",
       "      <th>4</th>\n",
       "      <td>Juice WRLD</td>\n",
       "      <td>2</td>\n",
       "    </tr>\n",
       "  </tbody>\n",
       "</table>\n",
       "</div>"
      ],
      "text/plain": [
       "    artist_name  num_deluxe_albs\n",
       "0           NAV                3\n",
       "1  Lil Uzi Vert                3\n",
       "2   Post Malone                2\n",
       "3    Kanye West                2\n",
       "4    Juice WRLD                2"
      ]
     },
     "execution_count": 20,
     "metadata": {},
     "output_type": "execute_result"
    }
   ],
   "source": [
    "Q('''\n",
    "SELECT *\n",
    "FROM top_5_artist_num_deluxe_view;\n",
    "''')"
   ]
  },
  {
   "cell_type": "markdown",
   "id": "3830bc19",
   "metadata": {},
   "source": [
    "### Our last view was a success! Now to create our visualizations."
   ]
  },
  {
   "cell_type": "code",
   "execution_count": null,
   "id": "5fc51210",
   "metadata": {},
   "outputs": [],
   "source": []
  },
  {
   "cell_type": "code",
   "execution_count": null,
   "id": "67ef6f14",
   "metadata": {},
   "outputs": [],
   "source": []
  },
  {
   "cell_type": "code",
   "execution_count": null,
   "id": "ccf57fd7",
   "metadata": {},
   "outputs": [],
   "source": []
  },
  {
   "cell_type": "code",
   "execution_count": null,
   "id": "33f602c9",
   "metadata": {},
   "outputs": [],
   "source": []
  },
  {
   "cell_type": "code",
   "execution_count": 21,
   "id": "e698b97d",
   "metadata": {},
   "outputs": [
    {
     "data": {
      "text/html": [
       "<div>\n",
       "<style scoped>\n",
       "    .dataframe tbody tr th:only-of-type {\n",
       "        vertical-align: middle;\n",
       "    }\n",
       "\n",
       "    .dataframe tbody tr th {\n",
       "        vertical-align: top;\n",
       "    }\n",
       "\n",
       "    .dataframe thead th {\n",
       "        text-align: right;\n",
       "    }\n",
       "</style>\n",
       "<table border=\"1\" class=\"dataframe\">\n",
       "  <thead>\n",
       "    <tr style=\"text-align: right;\">\n",
       "      <th></th>\n",
       "      <th>cid</th>\n",
       "      <th>name</th>\n",
       "      <th>type</th>\n",
       "      <th>notnull</th>\n",
       "      <th>dflt_value</th>\n",
       "      <th>pk</th>\n",
       "    </tr>\n",
       "  </thead>\n",
       "  <tbody>\n",
       "    <tr>\n",
       "      <th>0</th>\n",
       "      <td>0</td>\n",
       "      <td>track_id</td>\n",
       "      <td>TEXT</td>\n",
       "      <td>0</td>\n",
       "      <td>None</td>\n",
       "      <td>0</td>\n",
       "    </tr>\n",
       "    <tr>\n",
       "      <th>1</th>\n",
       "      <td>1</td>\n",
       "      <td>danceability</td>\n",
       "      <td>REAL</td>\n",
       "      <td>0</td>\n",
       "      <td>None</td>\n",
       "      <td>0</td>\n",
       "    </tr>\n",
       "    <tr>\n",
       "      <th>2</th>\n",
       "      <td>2</td>\n",
       "      <td>energy</td>\n",
       "      <td>REAL</td>\n",
       "      <td>0</td>\n",
       "      <td>None</td>\n",
       "      <td>0</td>\n",
       "    </tr>\n",
       "    <tr>\n",
       "      <th>3</th>\n",
       "      <td>3</td>\n",
       "      <td>instrumentalness</td>\n",
       "      <td>REAL</td>\n",
       "      <td>0</td>\n",
       "      <td>None</td>\n",
       "      <td>0</td>\n",
       "    </tr>\n",
       "    <tr>\n",
       "      <th>4</th>\n",
       "      <td>4</td>\n",
       "      <td>liveness</td>\n",
       "      <td>REAL</td>\n",
       "      <td>0</td>\n",
       "      <td>None</td>\n",
       "      <td>0</td>\n",
       "    </tr>\n",
       "    <tr>\n",
       "      <th>5</th>\n",
       "      <td>5</td>\n",
       "      <td>loudness</td>\n",
       "      <td>REAL</td>\n",
       "      <td>0</td>\n",
       "      <td>None</td>\n",
       "      <td>0</td>\n",
       "    </tr>\n",
       "    <tr>\n",
       "      <th>6</th>\n",
       "      <td>6</td>\n",
       "      <td>speechiness</td>\n",
       "      <td>REAL</td>\n",
       "      <td>0</td>\n",
       "      <td>None</td>\n",
       "      <td>0</td>\n",
       "    </tr>\n",
       "    <tr>\n",
       "      <th>7</th>\n",
       "      <td>7</td>\n",
       "      <td>tempo</td>\n",
       "      <td>REAL</td>\n",
       "      <td>0</td>\n",
       "      <td>None</td>\n",
       "      <td>0</td>\n",
       "    </tr>\n",
       "    <tr>\n",
       "      <th>8</th>\n",
       "      <td>8</td>\n",
       "      <td>type</td>\n",
       "      <td>TEXT</td>\n",
       "      <td>0</td>\n",
       "      <td>None</td>\n",
       "      <td>0</td>\n",
       "    </tr>\n",
       "    <tr>\n",
       "      <th>9</th>\n",
       "      <td>9</td>\n",
       "      <td>valence</td>\n",
       "      <td>REAL</td>\n",
       "      <td>0</td>\n",
       "      <td>None</td>\n",
       "      <td>0</td>\n",
       "    </tr>\n",
       "    <tr>\n",
       "      <th>10</th>\n",
       "      <td>10</td>\n",
       "      <td>song_uri</td>\n",
       "      <td>TEXT</td>\n",
       "      <td>0</td>\n",
       "      <td>None</td>\n",
       "      <td>0</td>\n",
       "    </tr>\n",
       "  </tbody>\n",
       "</table>\n",
       "</div>"
      ],
      "text/plain": [
       "    cid              name  type  notnull dflt_value  pk\n",
       "0     0          track_id  TEXT        0       None   0\n",
       "1     1      danceability  REAL        0       None   0\n",
       "2     2            energy  REAL        0       None   0\n",
       "3     3  instrumentalness  REAL        0       None   0\n",
       "4     4          liveness  REAL        0       None   0\n",
       "5     5          loudness  REAL        0       None   0\n",
       "6     6       speechiness  REAL        0       None   0\n",
       "7     7             tempo  REAL        0       None   0\n",
       "8     8              type  TEXT        0       None   0\n",
       "9     9           valence  REAL        0       None   0\n",
       "10   10          song_uri  TEXT        0       None   0"
      ]
     },
     "execution_count": 21,
     "metadata": {},
     "output_type": "execute_result"
    }
   ],
   "source": [
    "Q('''\n",
    "PRAGMA table_info(Track_Feature);\n",
    "''')"
   ]
  },
  {
   "cell_type": "code",
   "execution_count": 22,
   "id": "5dbe2ca4",
   "metadata": {},
   "outputs": [
    {
     "data": {
      "text/html": [
       "<div>\n",
       "<style scoped>\n",
       "    .dataframe tbody tr th:only-of-type {\n",
       "        vertical-align: middle;\n",
       "    }\n",
       "\n",
       "    .dataframe tbody tr th {\n",
       "        vertical-align: top;\n",
       "    }\n",
       "\n",
       "    .dataframe thead th {\n",
       "        text-align: right;\n",
       "    }\n",
       "</style>\n",
       "<table border=\"1\" class=\"dataframe\">\n",
       "  <thead>\n",
       "    <tr style=\"text-align: right;\">\n",
       "      <th></th>\n",
       "      <th>name</th>\n",
       "    </tr>\n",
       "  </thead>\n",
       "  <tbody>\n",
       "    <tr>\n",
       "      <th>0</th>\n",
       "      <td>top_10_songs_ms_view</td>\n",
       "    </tr>\n",
       "    <tr>\n",
       "      <th>1</th>\n",
       "      <td>top_20_artist_num_followers_view</td>\n",
       "    </tr>\n",
       "    <tr>\n",
       "      <th>2</th>\n",
       "      <td>top_10_songs_tempo_view</td>\n",
       "    </tr>\n",
       "    <tr>\n",
       "      <th>3</th>\n",
       "      <td>top_10_explicit_artist_view</td>\n",
       "    </tr>\n",
       "    <tr>\n",
       "      <th>4</th>\n",
       "      <td>top_5_genres_avg_energy_view</td>\n",
       "    </tr>\n",
       "    <tr>\n",
       "      <th>5</th>\n",
       "      <td>top_5_artist_num_deluxe_view</td>\n",
       "    </tr>\n",
       "  </tbody>\n",
       "</table>\n",
       "</div>"
      ],
      "text/plain": [
       "                               name\n",
       "0              top_10_songs_ms_view\n",
       "1  top_20_artist_num_followers_view\n",
       "2           top_10_songs_tempo_view\n",
       "3       top_10_explicit_artist_view\n",
       "4      top_5_genres_avg_energy_view\n",
       "5      top_5_artist_num_deluxe_view"
      ]
     },
     "execution_count": 22,
     "metadata": {},
     "output_type": "execute_result"
    }
   ],
   "source": [
    "Q('''\n",
    "SELECT name \n",
    "FROM sqlite_schema \n",
    "WHERE type = 'view';\n",
    "''')"
   ]
  },
  {
   "cell_type": "code",
   "execution_count": 23,
   "id": "4a12f210",
   "metadata": {},
   "outputs": [],
   "source": [
    "# Q('''\n",
    "\n",
    "# ''')"
   ]
  },
  {
   "cell_type": "code",
   "execution_count": 24,
   "id": "4c654444",
   "metadata": {},
   "outputs": [],
   "source": [
    "# commit changes to the database\n",
    "db_conn.commit()\n",
    "\n",
    "# close database connection\n",
    "db_conn.close()"
   ]
  },
  {
   "cell_type": "code",
   "execution_count": null,
   "id": "ff8651bd",
   "metadata": {},
   "outputs": [],
   "source": []
  }
 ],
 "metadata": {
  "kernelspec": {
   "display_name": "Python 3 (ipykernel)",
   "language": "python",
   "name": "python3"
  },
  "language_info": {
   "codemirror_mode": {
    "name": "ipython",
    "version": 3
   },
   "file_extension": ".py",
   "mimetype": "text/x-python",
   "name": "python",
   "nbconvert_exporter": "python",
   "pygments_lexer": "ipython3",
   "version": "3.9.7"
  }
 },
 "nbformat": 4,
 "nbformat_minor": 5
}
