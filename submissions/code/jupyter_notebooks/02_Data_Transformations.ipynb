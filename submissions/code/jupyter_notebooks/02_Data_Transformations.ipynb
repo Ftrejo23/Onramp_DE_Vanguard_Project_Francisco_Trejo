{
 "cells": [
  {
   "cell_type": "markdown",
   "id": "de9045f4",
   "metadata": {},
   "source": [
    "# Data Transformation\n",
    "---"
   ]
  },
  {
   "cell_type": "code",
   "execution_count": 1,
   "id": "51f8dc0b",
   "metadata": {},
   "outputs": [],
   "source": [
    "import pandas as pd\n",
    "import numpy as np\n",
    "\n",
    "# read in our data \n",
    "artist = pd.read_csv('../../data/artist.csv')\n",
    "album = pd.read_csv('../../data/album.csv')\n",
    "track = pd.read_csv('../../data/track.csv')\n",
    "track_feat = pd.read_csv('../../data/track_feat.csv')\n",
    "\n",
    "# create function to check if there are duplicate row values in the dfs\n",
    "def check_for_dups(df, table):\n",
    "    '''Function takes in a pandas dataframe (df) and the name of the df as a string (table)'''\n",
    "    potential_dups = []\n",
    "    # iterate through the columns in the df\n",
    "    for col in df.columns:\n",
    "        # check to see if the column values are numbers, if not continue\n",
    "        if df.dtypes[col] != np.int64 and df.dtypes[col] != np.float64:\n",
    "            # if 'count' and 'unique' are different then potential duplicate values\n",
    "            if df[col].describe()['count'] != df[col].describe()['unique']:\n",
    "                potential_dups.append(col)\n",
    "    print(f'The following columns in {table} have potential duplicates: {potential_dups}')"
   ]
  },
  {
   "cell_type": "markdown",
   "id": "a98fc081",
   "metadata": {},
   "source": [
    "## Checking for duplicates\n",
    "---"
   ]
  },
  {
   "cell_type": "markdown",
   "id": "0977baba",
   "metadata": {},
   "source": [
    "## Artist dataframe:"
   ]
  },
  {
   "cell_type": "code",
   "execution_count": 2,
   "id": "e53416d9",
   "metadata": {},
   "outputs": [
    {
     "name": "stdout",
     "output_type": "stream",
     "text": [
      "The following columns in artist have potential duplicates: ['genre', 'type']\n"
     ]
    }
   ],
   "source": [
    "check_for_dups(artist, 'artist')"
   ]
  },
  {
   "cell_type": "markdown",
   "id": "73e3cfaa",
   "metadata": {},
   "source": [
    "### The columns above, genre and type, are good to have duplicate values. Artist df is free of redundant duplicates."
   ]
  },
  {
   "cell_type": "markdown",
   "id": "e781e504",
   "metadata": {},
   "source": [
    "## Album dataframe:"
   ]
  },
  {
   "cell_type": "code",
   "execution_count": 3,
   "id": "4a2f703b",
   "metadata": {},
   "outputs": [
    {
     "name": "stdout",
     "output_type": "stream",
     "text": [
      "The following columns in album have potential duplicates: ['album_id', 'album_name', 'external_url', 'image_url', 'release_date', 'type', 'album_uri', 'artist_id']\n"
     ]
    }
   ],
   "source": [
    "check_for_dups(album, 'album')"
   ]
  },
  {
   "cell_type": "markdown",
   "id": "5ffafac9",
   "metadata": {},
   "source": [
    "### The only columns above that are good to have duplicate values are type, release_date, and artist_id. Let's take a closer look at the album df. "
   ]
  },
  {
   "cell_type": "code",
   "execution_count": 4,
   "id": "2657268b",
   "metadata": {},
   "outputs": [
    {
     "data": {
      "text/html": [
       "<div>\n",
       "<style scoped>\n",
       "    .dataframe tbody tr th:only-of-type {\n",
       "        vertical-align: middle;\n",
       "    }\n",
       "\n",
       "    .dataframe tbody tr th {\n",
       "        vertical-align: top;\n",
       "    }\n",
       "\n",
       "    .dataframe thead th {\n",
       "        text-align: right;\n",
       "    }\n",
       "</style>\n",
       "<table border=\"1\" class=\"dataframe\">\n",
       "  <thead>\n",
       "    <tr style=\"text-align: right;\">\n",
       "      <th></th>\n",
       "      <th>album_id</th>\n",
       "      <th>album_name</th>\n",
       "      <th>external_url</th>\n",
       "      <th>image_url</th>\n",
       "      <th>release_date</th>\n",
       "      <th>total_tracks</th>\n",
       "      <th>type</th>\n",
       "      <th>album_uri</th>\n",
       "      <th>artist_id</th>\n",
       "    </tr>\n",
       "  </thead>\n",
       "  <tbody>\n",
       "    <tr>\n",
       "      <th>34</th>\n",
       "      <td>3XADnbi4uhYXb7RuSJ7bre</td>\n",
       "      <td>Slime Language 2 (Deluxe)</td>\n",
       "      <td>https://open.spotify.com/album/3XADnbi4uhYXb7R...</td>\n",
       "      <td>https://i.scdn.co/image/ab67616d0000b273bbb071...</td>\n",
       "      <td>2021-04-16</td>\n",
       "      <td>31</td>\n",
       "      <td>album</td>\n",
       "      <td>spotify:album:3XADnbi4uhYXb7RuSJ7bre</td>\n",
       "      <td>2hlmm7s2ICUX0LVIhVFlZQ</td>\n",
       "    </tr>\n",
       "    <tr>\n",
       "      <th>35</th>\n",
       "      <td>3ihwKkIMJWmmp1huNH0iWC</td>\n",
       "      <td>Slime Language 2</td>\n",
       "      <td>https://open.spotify.com/album/3ihwKkIMJWmmp1h...</td>\n",
       "      <td>https://i.scdn.co/image/ab67616d0000b2737939ff...</td>\n",
       "      <td>2021-04-16</td>\n",
       "      <td>23</td>\n",
       "      <td>album</td>\n",
       "      <td>spotify:album:3ihwKkIMJWmmp1huNH0iWC</td>\n",
       "      <td>2hlmm7s2ICUX0LVIhVFlZQ</td>\n",
       "    </tr>\n",
       "    <tr>\n",
       "      <th>36</th>\n",
       "      <td>4z8IoUDFp5dmiQNDlT4hu5</td>\n",
       "      <td>Slime Language 2 (Deluxe)</td>\n",
       "      <td>https://open.spotify.com/album/4z8IoUDFp5dmiQN...</td>\n",
       "      <td>https://i.scdn.co/image/ab67616d0000b273f376cc...</td>\n",
       "      <td>2021-04-15</td>\n",
       "      <td>31</td>\n",
       "      <td>album</td>\n",
       "      <td>spotify:album:4z8IoUDFp5dmiQNDlT4hu5</td>\n",
       "      <td>2hlmm7s2ICUX0LVIhVFlZQ</td>\n",
       "    </tr>\n",
       "    <tr>\n",
       "      <th>37</th>\n",
       "      <td>2MUc9nWkppdNnM8dfz0l1w</td>\n",
       "      <td>Slime Language 2</td>\n",
       "      <td>https://open.spotify.com/album/2MUc9nWkppdNnM8...</td>\n",
       "      <td>https://i.scdn.co/image/ab67616d0000b273f56ecc...</td>\n",
       "      <td>2021-04-15</td>\n",
       "      <td>23</td>\n",
       "      <td>album</td>\n",
       "      <td>spotify:album:2MUc9nWkppdNnM8dfz0l1w</td>\n",
       "      <td>2hlmm7s2ICUX0LVIhVFlZQ</td>\n",
       "    </tr>\n",
       "    <tr>\n",
       "      <th>66</th>\n",
       "      <td>3aITAVBURujVe8fhI2seeR</td>\n",
       "      <td>Pluto x Baby Pluto (Deluxe)</td>\n",
       "      <td>https://open.spotify.com/album/3aITAVBURujVe8f...</td>\n",
       "      <td>https://i.scdn.co/image/ab67616d0000b2738efe5b...</td>\n",
       "      <td>2020-11-13</td>\n",
       "      <td>24</td>\n",
       "      <td>album</td>\n",
       "      <td>spotify:album:3aITAVBURujVe8fhI2seeR</td>\n",
       "      <td>4O15NlyKLIASxsJ0PrXPfz</td>\n",
       "    </tr>\n",
       "    <tr>\n",
       "      <th>67</th>\n",
       "      <td>48xpWR8K6CGpy3ETAym3pt</td>\n",
       "      <td>Pluto x Baby Pluto</td>\n",
       "      <td>https://open.spotify.com/album/48xpWR8K6CGpy3E...</td>\n",
       "      <td>https://i.scdn.co/image/ab67616d0000b27357928e...</td>\n",
       "      <td>2020-11-13</td>\n",
       "      <td>16</td>\n",
       "      <td>album</td>\n",
       "      <td>spotify:album:48xpWR8K6CGpy3ETAym3pt</td>\n",
       "      <td>4O15NlyKLIASxsJ0PrXPfz</td>\n",
       "    </tr>\n",
       "    <tr>\n",
       "      <th>68</th>\n",
       "      <td>27fzM2E0lgovCD7PCq6eh4</td>\n",
       "      <td>Pluto x Baby Pluto (Deluxe)</td>\n",
       "      <td>https://open.spotify.com/album/27fzM2E0lgovCD7...</td>\n",
       "      <td>https://i.scdn.co/image/ab67616d0000b27319be1f...</td>\n",
       "      <td>2020-11-12</td>\n",
       "      <td>24</td>\n",
       "      <td>album</td>\n",
       "      <td>spotify:album:27fzM2E0lgovCD7PCq6eh4</td>\n",
       "      <td>4O15NlyKLIASxsJ0PrXPfz</td>\n",
       "    </tr>\n",
       "    <tr>\n",
       "      <th>69</th>\n",
       "      <td>6HcU64bPPXTHIbWmGblIkT</td>\n",
       "      <td>Pluto x Baby Pluto</td>\n",
       "      <td>https://open.spotify.com/album/6HcU64bPPXTHIbW...</td>\n",
       "      <td>https://i.scdn.co/image/ab67616d0000b2739e3502...</td>\n",
       "      <td>2020-11-12</td>\n",
       "      <td>16</td>\n",
       "      <td>album</td>\n",
       "      <td>spotify:album:6HcU64bPPXTHIbWmGblIkT</td>\n",
       "      <td>4O15NlyKLIASxsJ0PrXPfz</td>\n",
       "    </tr>\n",
       "    <tr>\n",
       "      <th>108</th>\n",
       "      <td>3aITAVBURujVe8fhI2seeR</td>\n",
       "      <td>Pluto x Baby Pluto (Deluxe)</td>\n",
       "      <td>https://open.spotify.com/album/3aITAVBURujVe8f...</td>\n",
       "      <td>https://i.scdn.co/image/ab67616d0000b2738efe5b...</td>\n",
       "      <td>2020-11-13</td>\n",
       "      <td>24</td>\n",
       "      <td>album</td>\n",
       "      <td>spotify:album:3aITAVBURujVe8fhI2seeR</td>\n",
       "      <td>1RyvyyTE3xzB2ZywiAwp0i</td>\n",
       "    </tr>\n",
       "    <tr>\n",
       "      <th>109</th>\n",
       "      <td>48xpWR8K6CGpy3ETAym3pt</td>\n",
       "      <td>Pluto x Baby Pluto</td>\n",
       "      <td>https://open.spotify.com/album/48xpWR8K6CGpy3E...</td>\n",
       "      <td>https://i.scdn.co/image/ab67616d0000b27357928e...</td>\n",
       "      <td>2020-11-13</td>\n",
       "      <td>16</td>\n",
       "      <td>album</td>\n",
       "      <td>spotify:album:48xpWR8K6CGpy3ETAym3pt</td>\n",
       "      <td>1RyvyyTE3xzB2ZywiAwp0i</td>\n",
       "    </tr>\n",
       "    <tr>\n",
       "      <th>110</th>\n",
       "      <td>27fzM2E0lgovCD7PCq6eh4</td>\n",
       "      <td>Pluto x Baby Pluto (Deluxe)</td>\n",
       "      <td>https://open.spotify.com/album/27fzM2E0lgovCD7...</td>\n",
       "      <td>https://i.scdn.co/image/ab67616d0000b27319be1f...</td>\n",
       "      <td>2020-11-12</td>\n",
       "      <td>24</td>\n",
       "      <td>album</td>\n",
       "      <td>spotify:album:27fzM2E0lgovCD7PCq6eh4</td>\n",
       "      <td>1RyvyyTE3xzB2ZywiAwp0i</td>\n",
       "    </tr>\n",
       "    <tr>\n",
       "      <th>111</th>\n",
       "      <td>6HcU64bPPXTHIbWmGblIkT</td>\n",
       "      <td>Pluto x Baby Pluto</td>\n",
       "      <td>https://open.spotify.com/album/6HcU64bPPXTHIbW...</td>\n",
       "      <td>https://i.scdn.co/image/ab67616d0000b2739e3502...</td>\n",
       "      <td>2020-11-12</td>\n",
       "      <td>16</td>\n",
       "      <td>album</td>\n",
       "      <td>spotify:album:6HcU64bPPXTHIbWmGblIkT</td>\n",
       "      <td>1RyvyyTE3xzB2ZywiAwp0i</td>\n",
       "    </tr>\n",
       "  </tbody>\n",
       "</table>\n",
       "</div>"
      ],
      "text/plain": [
       "                   album_id                   album_name  \\\n",
       "34   3XADnbi4uhYXb7RuSJ7bre    Slime Language 2 (Deluxe)   \n",
       "35   3ihwKkIMJWmmp1huNH0iWC             Slime Language 2   \n",
       "36   4z8IoUDFp5dmiQNDlT4hu5    Slime Language 2 (Deluxe)   \n",
       "37   2MUc9nWkppdNnM8dfz0l1w             Slime Language 2   \n",
       "66   3aITAVBURujVe8fhI2seeR  Pluto x Baby Pluto (Deluxe)   \n",
       "67   48xpWR8K6CGpy3ETAym3pt           Pluto x Baby Pluto   \n",
       "68   27fzM2E0lgovCD7PCq6eh4  Pluto x Baby Pluto (Deluxe)   \n",
       "69   6HcU64bPPXTHIbWmGblIkT           Pluto x Baby Pluto   \n",
       "108  3aITAVBURujVe8fhI2seeR  Pluto x Baby Pluto (Deluxe)   \n",
       "109  48xpWR8K6CGpy3ETAym3pt           Pluto x Baby Pluto   \n",
       "110  27fzM2E0lgovCD7PCq6eh4  Pluto x Baby Pluto (Deluxe)   \n",
       "111  6HcU64bPPXTHIbWmGblIkT           Pluto x Baby Pluto   \n",
       "\n",
       "                                          external_url  \\\n",
       "34   https://open.spotify.com/album/3XADnbi4uhYXb7R...   \n",
       "35   https://open.spotify.com/album/3ihwKkIMJWmmp1h...   \n",
       "36   https://open.spotify.com/album/4z8IoUDFp5dmiQN...   \n",
       "37   https://open.spotify.com/album/2MUc9nWkppdNnM8...   \n",
       "66   https://open.spotify.com/album/3aITAVBURujVe8f...   \n",
       "67   https://open.spotify.com/album/48xpWR8K6CGpy3E...   \n",
       "68   https://open.spotify.com/album/27fzM2E0lgovCD7...   \n",
       "69   https://open.spotify.com/album/6HcU64bPPXTHIbW...   \n",
       "108  https://open.spotify.com/album/3aITAVBURujVe8f...   \n",
       "109  https://open.spotify.com/album/48xpWR8K6CGpy3E...   \n",
       "110  https://open.spotify.com/album/27fzM2E0lgovCD7...   \n",
       "111  https://open.spotify.com/album/6HcU64bPPXTHIbW...   \n",
       "\n",
       "                                             image_url release_date  \\\n",
       "34   https://i.scdn.co/image/ab67616d0000b273bbb071...   2021-04-16   \n",
       "35   https://i.scdn.co/image/ab67616d0000b2737939ff...   2021-04-16   \n",
       "36   https://i.scdn.co/image/ab67616d0000b273f376cc...   2021-04-15   \n",
       "37   https://i.scdn.co/image/ab67616d0000b273f56ecc...   2021-04-15   \n",
       "66   https://i.scdn.co/image/ab67616d0000b2738efe5b...   2020-11-13   \n",
       "67   https://i.scdn.co/image/ab67616d0000b27357928e...   2020-11-13   \n",
       "68   https://i.scdn.co/image/ab67616d0000b27319be1f...   2020-11-12   \n",
       "69   https://i.scdn.co/image/ab67616d0000b2739e3502...   2020-11-12   \n",
       "108  https://i.scdn.co/image/ab67616d0000b2738efe5b...   2020-11-13   \n",
       "109  https://i.scdn.co/image/ab67616d0000b27357928e...   2020-11-13   \n",
       "110  https://i.scdn.co/image/ab67616d0000b27319be1f...   2020-11-12   \n",
       "111  https://i.scdn.co/image/ab67616d0000b2739e3502...   2020-11-12   \n",
       "\n",
       "     total_tracks   type                             album_uri  \\\n",
       "34             31  album  spotify:album:3XADnbi4uhYXb7RuSJ7bre   \n",
       "35             23  album  spotify:album:3ihwKkIMJWmmp1huNH0iWC   \n",
       "36             31  album  spotify:album:4z8IoUDFp5dmiQNDlT4hu5   \n",
       "37             23  album  spotify:album:2MUc9nWkppdNnM8dfz0l1w   \n",
       "66             24  album  spotify:album:3aITAVBURujVe8fhI2seeR   \n",
       "67             16  album  spotify:album:48xpWR8K6CGpy3ETAym3pt   \n",
       "68             24  album  spotify:album:27fzM2E0lgovCD7PCq6eh4   \n",
       "69             16  album  spotify:album:6HcU64bPPXTHIbWmGblIkT   \n",
       "108            24  album  spotify:album:3aITAVBURujVe8fhI2seeR   \n",
       "109            16  album  spotify:album:48xpWR8K6CGpy3ETAym3pt   \n",
       "110            24  album  spotify:album:27fzM2E0lgovCD7PCq6eh4   \n",
       "111            16  album  spotify:album:6HcU64bPPXTHIbWmGblIkT   \n",
       "\n",
       "                  artist_id  \n",
       "34   2hlmm7s2ICUX0LVIhVFlZQ  \n",
       "35   2hlmm7s2ICUX0LVIhVFlZQ  \n",
       "36   2hlmm7s2ICUX0LVIhVFlZQ  \n",
       "37   2hlmm7s2ICUX0LVIhVFlZQ  \n",
       "66   4O15NlyKLIASxsJ0PrXPfz  \n",
       "67   4O15NlyKLIASxsJ0PrXPfz  \n",
       "68   4O15NlyKLIASxsJ0PrXPfz  \n",
       "69   4O15NlyKLIASxsJ0PrXPfz  \n",
       "108  1RyvyyTE3xzB2ZywiAwp0i  \n",
       "109  1RyvyyTE3xzB2ZywiAwp0i  \n",
       "110  1RyvyyTE3xzB2ZywiAwp0i  \n",
       "111  1RyvyyTE3xzB2ZywiAwp0i  "
      ]
     },
     "execution_count": 4,
     "metadata": {},
     "output_type": "execute_result"
    }
   ],
   "source": [
    "album[album['album_name'].duplicated(keep=False)]"
   ]
  },
  {
   "cell_type": "markdown",
   "id": "2a38940d",
   "metadata": {},
   "source": [
    "### We can see from the above that there are multiple albums with the same name and album id. This is partially due to the fact that 2 artists have a joint album so when data was pulled for each artist the same album showed up twice. When pulling data we might have also pulled the clean and explicit version for these albums.  Let's remove the duplicate albums."
   ]
  },
  {
   "cell_type": "code",
   "execution_count": 5,
   "id": "e34cb2e6",
   "metadata": {},
   "outputs": [
    {
     "name": "stdout",
     "output_type": "stream",
     "text": [
      "The following columns in album have potential duplicates: ['release_date', 'type', 'artist_id']\n"
     ]
    }
   ],
   "source": [
    "# drop duplicate albums with the same name\n",
    "album.drop_duplicates(subset=['album_name'], inplace=True)\n",
    "\n",
    "check_for_dups(album, 'album')"
   ]
  },
  {
   "cell_type": "markdown",
   "id": "4fafe7e5",
   "metadata": {},
   "source": [
    "### The columns above, release_date, type, and artist_id, are good to have duplicate values. Album df is free of redundant duplicates."
   ]
  },
  {
   "cell_type": "code",
   "execution_count": 6,
   "id": "51110320",
   "metadata": {},
   "outputs": [],
   "source": [
    "# get list of album ids from our deduplicated dataframe\n",
    "final_alb_ids = album['album_id'].tolist()"
   ]
  },
  {
   "cell_type": "markdown",
   "id": "1451ade7",
   "metadata": {},
   "source": [
    "## Track dataframe:"
   ]
  },
  {
   "cell_type": "code",
   "execution_count": 7,
   "id": "4b238a77",
   "metadata": {},
   "outputs": [],
   "source": [
    "# get tracks that are only in the albums from our deduplicated album dataframe\n",
    "track = track[track['album_id'].isin(final_alb_ids)]"
   ]
  },
  {
   "cell_type": "code",
   "execution_count": 8,
   "id": "242ea1e7",
   "metadata": {},
   "outputs": [
    {
     "name": "stdout",
     "output_type": "stream",
     "text": [
      "The following columns in track have potential duplicates: ['track_id', 'song_name', 'external_url', 'explicit', 'type', 'song_uri', 'album_id']\n"
     ]
    }
   ],
   "source": [
    "check_for_dups(track, 'track')"
   ]
  },
  {
   "cell_type": "markdown",
   "id": "45334ae5",
   "metadata": {},
   "source": [
    "### The only columns above that are good to have duplicate values are song_name, explicit, type, and album_id . Let's take a closer look at the track df. "
   ]
  },
  {
   "cell_type": "code",
   "execution_count": 9,
   "id": "04b3b037",
   "metadata": {
    "scrolled": false
   },
   "outputs": [
    {
     "data": {
      "text/html": [
       "<div>\n",
       "<style scoped>\n",
       "    .dataframe tbody tr th:only-of-type {\n",
       "        vertical-align: middle;\n",
       "    }\n",
       "\n",
       "    .dataframe tbody tr th {\n",
       "        vertical-align: top;\n",
       "    }\n",
       "\n",
       "    .dataframe thead th {\n",
       "        text-align: right;\n",
       "    }\n",
       "</style>\n",
       "<table border=\"1\" class=\"dataframe\">\n",
       "  <thead>\n",
       "    <tr style=\"text-align: right;\">\n",
       "      <th></th>\n",
       "      <th>track_id</th>\n",
       "      <th>song_name</th>\n",
       "      <th>external_url</th>\n",
       "      <th>duration_ms</th>\n",
       "      <th>explicit</th>\n",
       "      <th>disc_number</th>\n",
       "      <th>type</th>\n",
       "      <th>song_uri</th>\n",
       "      <th>album_id</th>\n",
       "    </tr>\n",
       "  </thead>\n",
       "  <tbody>\n",
       "    <tr>\n",
       "      <th>1121</th>\n",
       "      <td>0anUgBvnA4u5LsHUeLRprc</td>\n",
       "      <td>Tic Tac</td>\n",
       "      <td>https://open.spotify.com/track/0anUgBvnA4u5LsH...</td>\n",
       "      <td>189147</td>\n",
       "      <td>True</td>\n",
       "      <td>1</td>\n",
       "      <td>track</td>\n",
       "      <td>spotify:track:0anUgBvnA4u5LsHUeLRprc</td>\n",
       "      <td>3aITAVBURujVe8fhI2seeR</td>\n",
       "    </tr>\n",
       "    <tr>\n",
       "      <th>1122</th>\n",
       "      <td>4V9K7DLPZNhCH77wLsAiNF</td>\n",
       "      <td>My Legacy</td>\n",
       "      <td>https://open.spotify.com/track/4V9K7DLPZNhCH77...</td>\n",
       "      <td>193333</td>\n",
       "      <td>True</td>\n",
       "      <td>1</td>\n",
       "      <td>track</td>\n",
       "      <td>spotify:track:4V9K7DLPZNhCH77wLsAiNF</td>\n",
       "      <td>3aITAVBURujVe8fhI2seeR</td>\n",
       "    </tr>\n",
       "    <tr>\n",
       "      <th>1123</th>\n",
       "      <td>669gYFBhezfYPXQP1hBMOX</td>\n",
       "      <td>Heart In Pieces</td>\n",
       "      <td>https://open.spotify.com/track/669gYFBhezfYPXQ...</td>\n",
       "      <td>196834</td>\n",
       "      <td>True</td>\n",
       "      <td>1</td>\n",
       "      <td>track</td>\n",
       "      <td>spotify:track:669gYFBhezfYPXQP1hBMOX</td>\n",
       "      <td>3aITAVBURujVe8fhI2seeR</td>\n",
       "    </tr>\n",
       "    <tr>\n",
       "      <th>1124</th>\n",
       "      <td>6vbe3GmRG30x2nraEvHudq</td>\n",
       "      <td>Because of You</td>\n",
       "      <td>https://open.spotify.com/track/6vbe3GmRG30x2nr...</td>\n",
       "      <td>216541</td>\n",
       "      <td>True</td>\n",
       "      <td>1</td>\n",
       "      <td>track</td>\n",
       "      <td>spotify:track:6vbe3GmRG30x2nraEvHudq</td>\n",
       "      <td>3aITAVBURujVe8fhI2seeR</td>\n",
       "    </tr>\n",
       "    <tr>\n",
       "      <th>1125</th>\n",
       "      <td>2z0LyXYmPgos95olIAQIO3</td>\n",
       "      <td>Bust a Move</td>\n",
       "      <td>https://open.spotify.com/track/2z0LyXYmPgos95o...</td>\n",
       "      <td>226285</td>\n",
       "      <td>True</td>\n",
       "      <td>1</td>\n",
       "      <td>track</td>\n",
       "      <td>spotify:track:2z0LyXYmPgos95olIAQIO3</td>\n",
       "      <td>3aITAVBURujVe8fhI2seeR</td>\n",
       "    </tr>\n",
       "    <tr>\n",
       "      <th>...</th>\n",
       "      <td>...</td>\n",
       "      <td>...</td>\n",
       "      <td>...</td>\n",
       "      <td>...</td>\n",
       "      <td>...</td>\n",
       "      <td>...</td>\n",
       "      <td>...</td>\n",
       "      <td>...</td>\n",
       "      <td>...</td>\n",
       "    </tr>\n",
       "    <tr>\n",
       "      <th>1899</th>\n",
       "      <td>7yOoJXW6wkpzlJpfjDKhIV</td>\n",
       "      <td>She Never Been To Pluto</td>\n",
       "      <td>https://open.spotify.com/track/7yOoJXW6wkpzlJp...</td>\n",
       "      <td>204117</td>\n",
       "      <td>True</td>\n",
       "      <td>1</td>\n",
       "      <td>track</td>\n",
       "      <td>spotify:track:7yOoJXW6wkpzlJpfjDKhIV</td>\n",
       "      <td>48xpWR8K6CGpy3ETAym3pt</td>\n",
       "    </tr>\n",
       "    <tr>\n",
       "      <th>1900</th>\n",
       "      <td>5qk0TivMEVkujTu7xJLKu7</td>\n",
       "      <td>Off Dat</td>\n",
       "      <td>https://open.spotify.com/track/5qk0TivMEVkujTu...</td>\n",
       "      <td>184736</td>\n",
       "      <td>True</td>\n",
       "      <td>1</td>\n",
       "      <td>track</td>\n",
       "      <td>spotify:track:5qk0TivMEVkujTu7xJLKu7</td>\n",
       "      <td>48xpWR8K6CGpy3ETAym3pt</td>\n",
       "    </tr>\n",
       "    <tr>\n",
       "      <th>1901</th>\n",
       "      <td>7JwmlNz8ic9ATnLn7DyAKx</td>\n",
       "      <td>I Don’t Wanna Break Up</td>\n",
       "      <td>https://open.spotify.com/track/7JwmlNz8ic9ATnL...</td>\n",
       "      <td>243936</td>\n",
       "      <td>True</td>\n",
       "      <td>1</td>\n",
       "      <td>track</td>\n",
       "      <td>spotify:track:7JwmlNz8ic9ATnLn7DyAKx</td>\n",
       "      <td>48xpWR8K6CGpy3ETAym3pt</td>\n",
       "    </tr>\n",
       "    <tr>\n",
       "      <th>1902</th>\n",
       "      <td>3h1LpNOGh1NgKVQPetS2Ed</td>\n",
       "      <td>Bankroll</td>\n",
       "      <td>https://open.spotify.com/track/3h1LpNOGh1NgKVQ...</td>\n",
       "      <td>186846</td>\n",
       "      <td>True</td>\n",
       "      <td>1</td>\n",
       "      <td>track</td>\n",
       "      <td>spotify:track:3h1LpNOGh1NgKVQPetS2Ed</td>\n",
       "      <td>48xpWR8K6CGpy3ETAym3pt</td>\n",
       "    </tr>\n",
       "    <tr>\n",
       "      <th>1903</th>\n",
       "      <td>5iHaOaMTQA3f24kD4oTR2x</td>\n",
       "      <td>Moment of Clarity</td>\n",
       "      <td>https://open.spotify.com/track/5iHaOaMTQA3f24k...</td>\n",
       "      <td>222295</td>\n",
       "      <td>True</td>\n",
       "      <td>1</td>\n",
       "      <td>track</td>\n",
       "      <td>spotify:track:5iHaOaMTQA3f24kD4oTR2x</td>\n",
       "      <td>48xpWR8K6CGpy3ETAym3pt</td>\n",
       "    </tr>\n",
       "  </tbody>\n",
       "</table>\n",
       "<p>80 rows × 9 columns</p>\n",
       "</div>"
      ],
      "text/plain": [
       "                    track_id                song_name  \\\n",
       "1121  0anUgBvnA4u5LsHUeLRprc                  Tic Tac   \n",
       "1122  4V9K7DLPZNhCH77wLsAiNF                My Legacy   \n",
       "1123  669gYFBhezfYPXQP1hBMOX          Heart In Pieces   \n",
       "1124  6vbe3GmRG30x2nraEvHudq           Because of You   \n",
       "1125  2z0LyXYmPgos95olIAQIO3              Bust a Move   \n",
       "...                      ...                      ...   \n",
       "1899  7yOoJXW6wkpzlJpfjDKhIV  She Never Been To Pluto   \n",
       "1900  5qk0TivMEVkujTu7xJLKu7                  Off Dat   \n",
       "1901  7JwmlNz8ic9ATnLn7DyAKx   I Don’t Wanna Break Up   \n",
       "1902  3h1LpNOGh1NgKVQPetS2Ed                 Bankroll   \n",
       "1903  5iHaOaMTQA3f24kD4oTR2x        Moment of Clarity   \n",
       "\n",
       "                                           external_url  duration_ms  \\\n",
       "1121  https://open.spotify.com/track/0anUgBvnA4u5LsH...       189147   \n",
       "1122  https://open.spotify.com/track/4V9K7DLPZNhCH77...       193333   \n",
       "1123  https://open.spotify.com/track/669gYFBhezfYPXQ...       196834   \n",
       "1124  https://open.spotify.com/track/6vbe3GmRG30x2nr...       216541   \n",
       "1125  https://open.spotify.com/track/2z0LyXYmPgos95o...       226285   \n",
       "...                                                 ...          ...   \n",
       "1899  https://open.spotify.com/track/7yOoJXW6wkpzlJp...       204117   \n",
       "1900  https://open.spotify.com/track/5qk0TivMEVkujTu...       184736   \n",
       "1901  https://open.spotify.com/track/7JwmlNz8ic9ATnL...       243936   \n",
       "1902  https://open.spotify.com/track/3h1LpNOGh1NgKVQ...       186846   \n",
       "1903  https://open.spotify.com/track/5iHaOaMTQA3f24k...       222295   \n",
       "\n",
       "      explicit  disc_number   type                              song_uri  \\\n",
       "1121      True            1  track  spotify:track:0anUgBvnA4u5LsHUeLRprc   \n",
       "1122      True            1  track  spotify:track:4V9K7DLPZNhCH77wLsAiNF   \n",
       "1123      True            1  track  spotify:track:669gYFBhezfYPXQP1hBMOX   \n",
       "1124      True            1  track  spotify:track:6vbe3GmRG30x2nraEvHudq   \n",
       "1125      True            1  track  spotify:track:2z0LyXYmPgos95olIAQIO3   \n",
       "...        ...          ...    ...                                   ...   \n",
       "1899      True            1  track  spotify:track:7yOoJXW6wkpzlJpfjDKhIV   \n",
       "1900      True            1  track  spotify:track:5qk0TivMEVkujTu7xJLKu7   \n",
       "1901      True            1  track  spotify:track:7JwmlNz8ic9ATnLn7DyAKx   \n",
       "1902      True            1  track  spotify:track:3h1LpNOGh1NgKVQPetS2Ed   \n",
       "1903      True            1  track  spotify:track:5iHaOaMTQA3f24kD4oTR2x   \n",
       "\n",
       "                    album_id  \n",
       "1121  3aITAVBURujVe8fhI2seeR  \n",
       "1122  3aITAVBURujVe8fhI2seeR  \n",
       "1123  3aITAVBURujVe8fhI2seeR  \n",
       "1124  3aITAVBURujVe8fhI2seeR  \n",
       "1125  3aITAVBURujVe8fhI2seeR  \n",
       "...                      ...  \n",
       "1899  48xpWR8K6CGpy3ETAym3pt  \n",
       "1900  48xpWR8K6CGpy3ETAym3pt  \n",
       "1901  48xpWR8K6CGpy3ETAym3pt  \n",
       "1902  48xpWR8K6CGpy3ETAym3pt  \n",
       "1903  48xpWR8K6CGpy3ETAym3pt  \n",
       "\n",
       "[80 rows x 9 columns]"
      ]
     },
     "execution_count": 9,
     "metadata": {},
     "output_type": "execute_result"
    }
   ],
   "source": [
    "track[track['track_id'].duplicated(keep=False)]"
   ]
  },
  {
   "cell_type": "markdown",
   "id": "a26ce40b",
   "metadata": {},
   "source": [
    "### Here we can see that much like how there were duplicate albums, there are duplicate songs in our data. We also have certain albums that have a regular and a deluxe version which is usually the same songs with an additional track or two. Let's remove the duplicate tracks."
   ]
  },
  {
   "cell_type": "code",
   "execution_count": 10,
   "id": "11cc3c49",
   "metadata": {},
   "outputs": [
    {
     "name": "stdout",
     "output_type": "stream",
     "text": [
      "The following columns in track have potential duplicates: ['song_name', 'explicit', 'type', 'album_id']\n"
     ]
    }
   ],
   "source": [
    "# drop duplicate tracks with the same track_id\n",
    "track.drop_duplicates(subset=['track_id'], inplace=True)\n",
    "\n",
    "check_for_dups(track, 'track')"
   ]
  },
  {
   "cell_type": "markdown",
   "id": "66b83489",
   "metadata": {},
   "source": [
    "### The columns above, song_name, explicit, type, and album_id, are good to have duplicate values. Track df is free of redundant duplicates."
   ]
  },
  {
   "cell_type": "code",
   "execution_count": 11,
   "id": "6f5b733e",
   "metadata": {},
   "outputs": [],
   "source": [
    "# get list of album ids from our deduplicated dataframe\n",
    "final_track_ids = track['track_id'].tolist()"
   ]
  },
  {
   "cell_type": "markdown",
   "id": "33f4296e",
   "metadata": {},
   "source": [
    "## Track_feature dataframe:"
   ]
  },
  {
   "cell_type": "code",
   "execution_count": 12,
   "id": "019da883",
   "metadata": {},
   "outputs": [],
   "source": [
    "# get track_feat that are only in the tracks from our deduplicated track dataframe\n",
    "track_feat = track_feat[track_feat['track_id'].isin(final_track_ids)]"
   ]
  },
  {
   "cell_type": "code",
   "execution_count": 13,
   "id": "44049d7f",
   "metadata": {},
   "outputs": [
    {
     "name": "stdout",
     "output_type": "stream",
     "text": [
      "The following columns in track_feat have potential duplicates: ['track_id', 'type', 'song_uri']\n"
     ]
    }
   ],
   "source": [
    "check_for_dups(track_feat, 'track_feat')"
   ]
  },
  {
   "cell_type": "markdown",
   "id": "021c1b3a",
   "metadata": {},
   "source": [
    "### The only column above that is good to have a duplicate value is type Let's take a closer look at the track_feat df. "
   ]
  },
  {
   "cell_type": "code",
   "execution_count": 14,
   "id": "854ede89",
   "metadata": {
    "scrolled": false
   },
   "outputs": [
    {
     "data": {
      "text/html": [
       "<div>\n",
       "<style scoped>\n",
       "    .dataframe tbody tr th:only-of-type {\n",
       "        vertical-align: middle;\n",
       "    }\n",
       "\n",
       "    .dataframe tbody tr th {\n",
       "        vertical-align: top;\n",
       "    }\n",
       "\n",
       "    .dataframe thead th {\n",
       "        text-align: right;\n",
       "    }\n",
       "</style>\n",
       "<table border=\"1\" class=\"dataframe\">\n",
       "  <thead>\n",
       "    <tr style=\"text-align: right;\">\n",
       "      <th></th>\n",
       "      <th>track_id</th>\n",
       "      <th>danceability</th>\n",
       "      <th>energy</th>\n",
       "      <th>instrumentalness</th>\n",
       "      <th>liveness</th>\n",
       "      <th>loudness</th>\n",
       "      <th>speechiness</th>\n",
       "      <th>tempo</th>\n",
       "      <th>type</th>\n",
       "      <th>valence</th>\n",
       "      <th>song_uri</th>\n",
       "    </tr>\n",
       "  </thead>\n",
       "  <tbody>\n",
       "    <tr>\n",
       "      <th>1121</th>\n",
       "      <td>0anUgBvnA4u5LsHUeLRprc</td>\n",
       "      <td>0.942</td>\n",
       "      <td>0.566</td>\n",
       "      <td>0.0</td>\n",
       "      <td>0.1100</td>\n",
       "      <td>-4.834</td>\n",
       "      <td>0.2260</td>\n",
       "      <td>132.858</td>\n",
       "      <td>audio_features</td>\n",
       "      <td>0.479</td>\n",
       "      <td>spotify:track:0anUgBvnA4u5LsHUeLRprc</td>\n",
       "    </tr>\n",
       "    <tr>\n",
       "      <th>1122</th>\n",
       "      <td>4V9K7DLPZNhCH77wLsAiNF</td>\n",
       "      <td>0.890</td>\n",
       "      <td>0.682</td>\n",
       "      <td>0.0</td>\n",
       "      <td>0.1160</td>\n",
       "      <td>-5.249</td>\n",
       "      <td>0.3230</td>\n",
       "      <td>143.979</td>\n",
       "      <td>audio_features</td>\n",
       "      <td>0.526</td>\n",
       "      <td>spotify:track:4V9K7DLPZNhCH77wLsAiNF</td>\n",
       "    </tr>\n",
       "    <tr>\n",
       "      <th>1123</th>\n",
       "      <td>669gYFBhezfYPXQP1hBMOX</td>\n",
       "      <td>0.872</td>\n",
       "      <td>0.699</td>\n",
       "      <td>0.0</td>\n",
       "      <td>0.1030</td>\n",
       "      <td>-6.127</td>\n",
       "      <td>0.0487</td>\n",
       "      <td>138.929</td>\n",
       "      <td>audio_features</td>\n",
       "      <td>0.725</td>\n",
       "      <td>spotify:track:669gYFBhezfYPXQP1hBMOX</td>\n",
       "    </tr>\n",
       "    <tr>\n",
       "      <th>1124</th>\n",
       "      <td>6vbe3GmRG30x2nraEvHudq</td>\n",
       "      <td>0.781</td>\n",
       "      <td>0.469</td>\n",
       "      <td>0.0</td>\n",
       "      <td>0.0921</td>\n",
       "      <td>-8.456</td>\n",
       "      <td>0.0549</td>\n",
       "      <td>132.989</td>\n",
       "      <td>audio_features</td>\n",
       "      <td>0.518</td>\n",
       "      <td>spotify:track:6vbe3GmRG30x2nraEvHudq</td>\n",
       "    </tr>\n",
       "    <tr>\n",
       "      <th>1125</th>\n",
       "      <td>2z0LyXYmPgos95olIAQIO3</td>\n",
       "      <td>0.804</td>\n",
       "      <td>0.683</td>\n",
       "      <td>0.0</td>\n",
       "      <td>0.0693</td>\n",
       "      <td>-7.344</td>\n",
       "      <td>0.0550</td>\n",
       "      <td>140.035</td>\n",
       "      <td>audio_features</td>\n",
       "      <td>0.229</td>\n",
       "      <td>spotify:track:2z0LyXYmPgos95olIAQIO3</td>\n",
       "    </tr>\n",
       "    <tr>\n",
       "      <th>...</th>\n",
       "      <td>...</td>\n",
       "      <td>...</td>\n",
       "      <td>...</td>\n",
       "      <td>...</td>\n",
       "      <td>...</td>\n",
       "      <td>...</td>\n",
       "      <td>...</td>\n",
       "      <td>...</td>\n",
       "      <td>...</td>\n",
       "      <td>...</td>\n",
       "      <td>...</td>\n",
       "    </tr>\n",
       "    <tr>\n",
       "      <th>1899</th>\n",
       "      <td>7yOoJXW6wkpzlJpfjDKhIV</td>\n",
       "      <td>0.827</td>\n",
       "      <td>0.615</td>\n",
       "      <td>0.0</td>\n",
       "      <td>0.3070</td>\n",
       "      <td>-5.879</td>\n",
       "      <td>0.2220</td>\n",
       "      <td>132.996</td>\n",
       "      <td>audio_features</td>\n",
       "      <td>0.221</td>\n",
       "      <td>spotify:track:7yOoJXW6wkpzlJpfjDKhIV</td>\n",
       "    </tr>\n",
       "    <tr>\n",
       "      <th>1900</th>\n",
       "      <td>5qk0TivMEVkujTu7xJLKu7</td>\n",
       "      <td>0.898</td>\n",
       "      <td>0.641</td>\n",
       "      <td>0.0</td>\n",
       "      <td>0.6650</td>\n",
       "      <td>-7.673</td>\n",
       "      <td>0.2970</td>\n",
       "      <td>151.937</td>\n",
       "      <td>audio_features</td>\n",
       "      <td>0.578</td>\n",
       "      <td>spotify:track:5qk0TivMEVkujTu7xJLKu7</td>\n",
       "    </tr>\n",
       "    <tr>\n",
       "      <th>1901</th>\n",
       "      <td>7JwmlNz8ic9ATnLn7DyAKx</td>\n",
       "      <td>0.615</td>\n",
       "      <td>0.584</td>\n",
       "      <td>0.0</td>\n",
       "      <td>0.1140</td>\n",
       "      <td>-5.638</td>\n",
       "      <td>0.2350</td>\n",
       "      <td>162.169</td>\n",
       "      <td>audio_features</td>\n",
       "      <td>0.529</td>\n",
       "      <td>spotify:track:7JwmlNz8ic9ATnLn7DyAKx</td>\n",
       "    </tr>\n",
       "    <tr>\n",
       "      <th>1902</th>\n",
       "      <td>3h1LpNOGh1NgKVQPetS2Ed</td>\n",
       "      <td>0.830</td>\n",
       "      <td>0.735</td>\n",
       "      <td>0.0</td>\n",
       "      <td>0.2160</td>\n",
       "      <td>-5.230</td>\n",
       "      <td>0.3010</td>\n",
       "      <td>139.932</td>\n",
       "      <td>audio_features</td>\n",
       "      <td>0.682</td>\n",
       "      <td>spotify:track:3h1LpNOGh1NgKVQPetS2Ed</td>\n",
       "    </tr>\n",
       "    <tr>\n",
       "      <th>1903</th>\n",
       "      <td>5iHaOaMTQA3f24kD4oTR2x</td>\n",
       "      <td>0.862</td>\n",
       "      <td>0.624</td>\n",
       "      <td>0.0</td>\n",
       "      <td>0.1950</td>\n",
       "      <td>-5.348</td>\n",
       "      <td>0.1470</td>\n",
       "      <td>122.029</td>\n",
       "      <td>audio_features</td>\n",
       "      <td>0.523</td>\n",
       "      <td>spotify:track:5iHaOaMTQA3f24kD4oTR2x</td>\n",
       "    </tr>\n",
       "  </tbody>\n",
       "</table>\n",
       "<p>80 rows × 11 columns</p>\n",
       "</div>"
      ],
      "text/plain": [
       "                    track_id  danceability  energy  instrumentalness  \\\n",
       "1121  0anUgBvnA4u5LsHUeLRprc         0.942   0.566               0.0   \n",
       "1122  4V9K7DLPZNhCH77wLsAiNF         0.890   0.682               0.0   \n",
       "1123  669gYFBhezfYPXQP1hBMOX         0.872   0.699               0.0   \n",
       "1124  6vbe3GmRG30x2nraEvHudq         0.781   0.469               0.0   \n",
       "1125  2z0LyXYmPgos95olIAQIO3         0.804   0.683               0.0   \n",
       "...                      ...           ...     ...               ...   \n",
       "1899  7yOoJXW6wkpzlJpfjDKhIV         0.827   0.615               0.0   \n",
       "1900  5qk0TivMEVkujTu7xJLKu7         0.898   0.641               0.0   \n",
       "1901  7JwmlNz8ic9ATnLn7DyAKx         0.615   0.584               0.0   \n",
       "1902  3h1LpNOGh1NgKVQPetS2Ed         0.830   0.735               0.0   \n",
       "1903  5iHaOaMTQA3f24kD4oTR2x         0.862   0.624               0.0   \n",
       "\n",
       "      liveness  loudness  speechiness    tempo            type  valence  \\\n",
       "1121    0.1100    -4.834       0.2260  132.858  audio_features    0.479   \n",
       "1122    0.1160    -5.249       0.3230  143.979  audio_features    0.526   \n",
       "1123    0.1030    -6.127       0.0487  138.929  audio_features    0.725   \n",
       "1124    0.0921    -8.456       0.0549  132.989  audio_features    0.518   \n",
       "1125    0.0693    -7.344       0.0550  140.035  audio_features    0.229   \n",
       "...        ...       ...          ...      ...             ...      ...   \n",
       "1899    0.3070    -5.879       0.2220  132.996  audio_features    0.221   \n",
       "1900    0.6650    -7.673       0.2970  151.937  audio_features    0.578   \n",
       "1901    0.1140    -5.638       0.2350  162.169  audio_features    0.529   \n",
       "1902    0.2160    -5.230       0.3010  139.932  audio_features    0.682   \n",
       "1903    0.1950    -5.348       0.1470  122.029  audio_features    0.523   \n",
       "\n",
       "                                  song_uri  \n",
       "1121  spotify:track:0anUgBvnA4u5LsHUeLRprc  \n",
       "1122  spotify:track:4V9K7DLPZNhCH77wLsAiNF  \n",
       "1123  spotify:track:669gYFBhezfYPXQP1hBMOX  \n",
       "1124  spotify:track:6vbe3GmRG30x2nraEvHudq  \n",
       "1125  spotify:track:2z0LyXYmPgos95olIAQIO3  \n",
       "...                                    ...  \n",
       "1899  spotify:track:7yOoJXW6wkpzlJpfjDKhIV  \n",
       "1900  spotify:track:5qk0TivMEVkujTu7xJLKu7  \n",
       "1901  spotify:track:7JwmlNz8ic9ATnLn7DyAKx  \n",
       "1902  spotify:track:3h1LpNOGh1NgKVQPetS2Ed  \n",
       "1903  spotify:track:5iHaOaMTQA3f24kD4oTR2x  \n",
       "\n",
       "[80 rows x 11 columns]"
      ]
     },
     "execution_count": 14,
     "metadata": {},
     "output_type": "execute_result"
    }
   ],
   "source": [
    "track_feat[track_feat['track_id'].duplicated(keep=False)]"
   ]
  },
  {
   "cell_type": "markdown",
   "id": "43911f21",
   "metadata": {},
   "source": [
    "### Similar to the track dataframe we have the same 80 duplicates due to the similar albums between artists.  Let's remove the duplicate tracks."
   ]
  },
  {
   "cell_type": "code",
   "execution_count": 15,
   "id": "794d9e55",
   "metadata": {},
   "outputs": [
    {
     "name": "stdout",
     "output_type": "stream",
     "text": [
      "The following columns in track have potential duplicates: ['type']\n"
     ]
    }
   ],
   "source": [
    "# drop duplicate tracks with the same track_id\n",
    "track_feat.drop_duplicates(subset=['track_id'], inplace=True)\n",
    "\n",
    "check_for_dups(track_feat, 'track')"
   ]
  },
  {
   "cell_type": "markdown",
   "id": "92a90750",
   "metadata": {},
   "source": [
    "### The type column is good to have duplicates, the track_feat df is free of redundant duplicates."
   ]
  },
  {
   "cell_type": "markdown",
   "id": "6070f5f8",
   "metadata": {},
   "source": [
    "## Checking for null values\n",
    "---"
   ]
  },
  {
   "cell_type": "code",
   "execution_count": 16,
   "id": "0cf3d9ff",
   "metadata": {},
   "outputs": [],
   "source": [
    "# function to quickly check if there are null values in the dataframes\n",
    "def check_for_nulls(dfs, tables):\n",
    "    '''Function takes in a list of pandas dataframe (dfs) and the name of the df as a list (tables)'''\n",
    "    for df, table in zip(dfs, tables):\n",
    "        if df.isnull().sum().sum() == 0:\n",
    "            print(f'No null values in {table} dataframe!')\n",
    "        else:\n",
    "            print(f'{tables} has {df.isnull().sum().sum()} null value(s), further investigate.')"
   ]
  },
  {
   "cell_type": "code",
   "execution_count": 17,
   "id": "44fa418f",
   "metadata": {},
   "outputs": [
    {
     "name": "stdout",
     "output_type": "stream",
     "text": [
      "No null values in artist dataframe!\n",
      "No null values in album dataframe!\n",
      "No null values in track dataframe!\n",
      "No null values in track_feat dataframe!\n"
     ]
    }
   ],
   "source": [
    "check_for_nulls([artist, album, track, track_feat], ['artist', 'album', 'track', 'track_feat'])"
   ]
  },
  {
   "cell_type": "markdown",
   "id": "44a8dac3",
   "metadata": {},
   "source": [
    "## Checking correct data types\n",
    "---"
   ]
  },
  {
   "cell_type": "code",
   "execution_count": 18,
   "id": "498f72ac",
   "metadata": {},
   "outputs": [
    {
     "data": {
      "text/plain": [
       "artist_id       object\n",
       "artist_name     object\n",
       "external_url    object\n",
       "genre           object\n",
       "image_url       object\n",
       "followers        int64\n",
       "popularity       int64\n",
       "type            object\n",
       "artist_uri      object\n",
       "dtype: object"
      ]
     },
     "execution_count": 18,
     "metadata": {},
     "output_type": "execute_result"
    }
   ],
   "source": [
    "artist.dtypes"
   ]
  },
  {
   "cell_type": "markdown",
   "id": "b802c576",
   "metadata": {},
   "source": [
    "### Comparing the above data types to the example tables we can see that our data types are good to go. Now let's check the album dataframe."
   ]
  },
  {
   "cell_type": "code",
   "execution_count": 19,
   "id": "15f6bd5d",
   "metadata": {},
   "outputs": [
    {
     "data": {
      "text/plain": [
       "album_id        object\n",
       "album_name      object\n",
       "external_url    object\n",
       "image_url       object\n",
       "release_date    object\n",
       "total_tracks     int64\n",
       "type            object\n",
       "album_uri       object\n",
       "artist_id       object\n",
       "dtype: object"
      ]
     },
     "execution_count": 19,
     "metadata": {},
     "output_type": "execute_result"
    }
   ],
   "source": [
    "album.dtypes"
   ]
  },
  {
   "cell_type": "markdown",
   "id": "cf8a0f7d",
   "metadata": {},
   "source": [
    "### All of the above are good except release_date, we will change the data type of this column to be datetime."
   ]
  },
  {
   "cell_type": "code",
   "execution_count": 20,
   "id": "0b1d5f74",
   "metadata": {},
   "outputs": [],
   "source": [
    "# change release_date data type to be datetime\n",
    "album['release_date'] = pd.to_datetime(album.release_date, format='%Y-%m-%d', errors='coerce')"
   ]
  },
  {
   "cell_type": "code",
   "execution_count": 21,
   "id": "49d9f841",
   "metadata": {},
   "outputs": [
    {
     "data": {
      "text/plain": [
       "album_id                object\n",
       "album_name              object\n",
       "external_url            object\n",
       "image_url               object\n",
       "release_date    datetime64[ns]\n",
       "total_tracks             int64\n",
       "type                    object\n",
       "album_uri               object\n",
       "artist_id               object\n",
       "dtype: object"
      ]
     },
     "execution_count": 21,
     "metadata": {},
     "output_type": "execute_result"
    }
   ],
   "source": [
    "album.dtypes"
   ]
  },
  {
   "cell_type": "markdown",
   "id": "7609cf20",
   "metadata": {},
   "source": [
    "### Data types for album are good, now check track dataframe."
   ]
  },
  {
   "cell_type": "code",
   "execution_count": 22,
   "id": "c512096f",
   "metadata": {},
   "outputs": [
    {
     "data": {
      "text/plain": [
       "track_id        object\n",
       "song_name       object\n",
       "external_url    object\n",
       "duration_ms      int64\n",
       "explicit          bool\n",
       "disc_number      int64\n",
       "type            object\n",
       "song_uri        object\n",
       "album_id        object\n",
       "dtype: object"
      ]
     },
     "execution_count": 22,
     "metadata": {},
     "output_type": "execute_result"
    }
   ],
   "source": [
    "track.dtypes"
   ]
  },
  {
   "cell_type": "markdown",
   "id": "7fef9db6",
   "metadata": {},
   "source": [
    "### Data types for track are good, lastly check track_feat dataframe."
   ]
  },
  {
   "cell_type": "code",
   "execution_count": 23,
   "id": "d1d07bb3",
   "metadata": {},
   "outputs": [
    {
     "data": {
      "text/plain": [
       "track_id             object\n",
       "danceability        float64\n",
       "energy              float64\n",
       "instrumentalness    float64\n",
       "liveness            float64\n",
       "loudness            float64\n",
       "speechiness         float64\n",
       "tempo               float64\n",
       "type                 object\n",
       "valence             float64\n",
       "song_uri             object\n",
       "dtype: object"
      ]
     },
     "execution_count": 23,
     "metadata": {},
     "output_type": "execute_result"
    }
   ],
   "source": [
    "track_feat.dtypes"
   ]
  },
  {
   "cell_type": "markdown",
   "id": "370ac418",
   "metadata": {},
   "source": [
    "### Data types for track_feat are good. All of the dataframes have the correct datatypes as shown in the example tables!"
   ]
  },
  {
   "cell_type": "markdown",
   "id": "a47040b0",
   "metadata": {},
   "source": [
    "## Save transformed data to new csv files.\n",
    "---"
   ]
  },
  {
   "cell_type": "code",
   "execution_count": 24,
   "id": "c5b12d77",
   "metadata": {},
   "outputs": [],
   "source": [
    "# save all fully transformed df to csv files naming them accordingly\n",
    "dataframe = [artist, album, track, track_feat]\n",
    "df_names = ['artist', 'album', 'track', 'track_feat']\n",
    "\n",
    "for df, df_name in zip(dataframe, df_names):\n",
    "    df.to_csv(f'../../data/final_{df_name}.csv', index=False)"
   ]
  }
 ],
 "metadata": {
  "kernelspec": {
   "display_name": "Python 3 (ipykernel)",
   "language": "python",
   "name": "python3"
  },
  "language_info": {
   "codemirror_mode": {
    "name": "ipython",
    "version": 3
   },
   "file_extension": ".py",
   "mimetype": "text/x-python",
   "name": "python",
   "nbconvert_exporter": "python",
   "pygments_lexer": "ipython3",
   "version": "3.9.7"
  }
 },
 "nbformat": 4,
 "nbformat_minor": 5
}
