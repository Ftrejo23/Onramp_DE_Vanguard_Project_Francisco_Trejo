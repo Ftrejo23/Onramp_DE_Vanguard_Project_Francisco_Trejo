{
 "cells": [
  {
   "cell_type": "markdown",
   "id": "389f0108",
   "metadata": {},
   "source": [
    "# Data Storage\n",
    "---"
   ]
  },
  {
   "cell_type": "code",
   "execution_count": 31,
   "id": "eb00436e",
   "metadata": {},
   "outputs": [],
   "source": [
    "import pandas as pd\n",
    "import sqlite3\n",
    "\n",
    "# read in transformed data\n",
    "artist_df = pd.read_csv('../../data/final_artist.csv')\n",
    "# need to make sure release_dates gets read in as a datetime\n",
    "album_df = pd.read_csv('../../data/final_album.csv', parse_dates=['release_date'])\n",
    "track_df = pd.read_csv('../../data/final_track.csv', )\n",
    "track_feat_df = pd.read_csv('../../data/final_track_feat.csv')"
   ]
  },
  {
   "cell_type": "markdown",
   "id": "7828926d",
   "metadata": {},
   "source": [
    "## Connect to database"
   ]
  },
  {
   "cell_type": "code",
   "execution_count": 9,
   "id": "ad904203",
   "metadata": {},
   "outputs": [],
   "source": [
    "# create database connection\n",
    "db_conn = sqlite3.connect('../../data/sql_db/spotify_data.db')"
   ]
  },
  {
   "cell_type": "markdown",
   "id": "a7403130",
   "metadata": {},
   "source": [
    "## Load in the data"
   ]
  },
  {
   "cell_type": "code",
   "execution_count": 19,
   "id": "93bb0fc8",
   "metadata": {},
   "outputs": [],
   "source": [
    "# load in data into sql database\n",
    "artist_df.to_sql('Artist', con=db_conn, if_exists='replace', index=False)\n",
    "album_df.to_sql('Album', con=db_conn, if_exists='replace', index=False)\n",
    "track_df.to_sql('Track', con=db_conn, if_exists='replace', index=False)\n",
    "track_feat_df.to_sql('Track_Feature', con=db_conn, if_exists='replace', index=False)"
   ]
  },
  {
   "cell_type": "markdown",
   "id": "e9fb08d4",
   "metadata": {},
   "source": [
    "## Commit changes and close database"
   ]
  },
  {
   "cell_type": "code",
   "execution_count": 32,
   "id": "daf2dfbd",
   "metadata": {},
   "outputs": [],
   "source": [
    "# commit changes to the database\n",
    "db_conn.commit()\n",
    "\n",
    "# close database connection\n",
    "db_conn.close()"
   ]
  }
 ],
 "metadata": {
  "kernelspec": {
   "display_name": "Python 3 (ipykernel)",
   "language": "python",
   "name": "python3"
  },
  "language_info": {
   "codemirror_mode": {
    "name": "ipython",
    "version": 3
   },
   "file_extension": ".py",
   "mimetype": "text/x-python",
   "name": "python",
   "nbconvert_exporter": "python",
   "pygments_lexer": "ipython3",
   "version": "3.9.7"
  }
 },
 "nbformat": 4,
 "nbformat_minor": 5
}
